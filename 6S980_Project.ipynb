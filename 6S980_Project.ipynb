{
  "cells": [
    {
      "cell_type": "markdown",
      "metadata": {
        "id": "P3_IvSlv8esf"
      },
      "source": [
        "## Directory Structure\n",
        "PLEASE make sure your directory looks like this:\n",
        "- root_dir\n",
        "    - pixel-nerf (clone/pull from github)\n",
        "    - adaptive-volume-rendering (clone/pull from github)\n",
        "        - 6S980_Project.ipynb\n",
        "    - scene-representation-networks (clone/pull from github)\n",
        "    - data\n",
        "    - checkpoints\n",
        "    - ......\n",
        "    \n",
        "Then set your pwd to root_dir\n",
        "\n",
        "## Relevant Repos\n",
        "\n",
        "- PixelNeRF repo: https://github.com/sxyu/pixel-nerf\n",
        "\n",
        "- SRN repo: https://github.com/vsitzmann/scene-representation-networks\n",
        "\n",
        "- SRN raymarcher algorithm: https://github.com/vsitzmann/scene-representation-networks/blob/master/custom_layers.py\n",
        "\n",
        "## Data\n",
        "\n",
        "- Currently using cars dataset from SRN\n",
        "\n",
        "## What we did\n",
        "\n",
        "- Now the pixelnerf with pretrained weights are running!\n",
        "\n",
        "\n",
        "## Questions\n",
        "- PixelNeRF currently does: evenly coarse sampling - fine sampling via importance weights - fine sampling around expected depth. With adaptive procedure, what is a fair comparison?\n",
        "\n",
        "## TODOs\n",
        "- First attempt: let LSTM interact with the features, do 10 steps, then directly output a color\n",
        "- Second attempt: sample points around the final location and do volume integral"
      ]
    },
    {
      "cell_type": "code",
      "execution_count": 4,
      "metadata": {},
      "outputs": [
        {
          "name": "stdout",
          "output_type": "stream",
          "text": [
            "/Users/jameszli/Desktop/MIT/6.S980\n",
            "Installed Torch version: 1.13.0\n",
            "cpu\n"
          ]
        }
      ],
      "source": [
        "# root_dir = \"/Users/yankesong/Documents/YankeSong/Harvard Textbook/MIT 6.S980/Project/\"       # This is the only thing you need to change.\n",
        "# %cd \"/Users/yankesong/Documents/YankeSong/Harvard Textbook/MIT 6.S980/Project/\"\n",
        "\n",
        "root_dir = \"/Users/jameszli/desktop/MIT/6.S980/\"       # This is the only thing you need to change.\n",
        "%cd \"/Users/jameszli/desktop/MIT/6.S980/\"\n",
        "\n",
        "# # Install everything\n",
        "# %pip install -r adaptive-volume-rendering/requirements.txt\n",
        "\n",
        "# Import everything\n",
        "import sys\n",
        "\n",
        "sys.path.insert(0, f\"{root_dir}/scene-representation-networks/\")\n",
        "sys.path.insert(0, f\"{root_dir}/pixel-nerf/src/\")\n",
        "sys.path.insert(0, f\"{root_dir}/adaptive-volume-rendering/\")\n",
        "\n",
        "from dataset import *\n",
        "from models import *\n",
        "from renderers import *\n",
        "from trains import *\n",
        "from utils import *\n",
        "from model import make_model, loss\n",
        "\n",
        "print(f\"Installed Torch version: {torch.__version__}\")\n",
        "\n",
        "if torch.cuda.is_available():\n",
        "    device = torch.device(\"cuda:0\")\n",
        "    torch.cuda.set_device(device)\n",
        "else:\n",
        "    device = torch.device(\"cpu\")\n",
        "\n",
        "print(device)"
      ]
    },
    {
      "cell_type": "markdown",
      "metadata": {
        "id": "F9h59cKEDM6O"
      },
      "source": [
        "## Setup & Load Test Data"
      ]
    },
    {
      "cell_type": "code",
      "execution_count": 5,
      "metadata": {
        "colab": {
          "base_uri": "https://localhost:8080/",
          "height": 645
        },
        "id": "wcct4u0iHywz",
        "outputId": "124f87f7-c70a-4612-9d70-87a1af0cb7cd"
      },
      "outputs": [
        {
          "ename": "UnboundLocalError",
          "evalue": "local variable 'child' referenced before assignment",
          "output_type": "error",
          "traceback": [
            "\u001b[0;31m---------------------------------------------------------------------------\u001b[0m",
            "\u001b[0;31mKeyboardInterrupt\u001b[0m                         Traceback (most recent call last)",
            "File \u001b[0;32m~/Desktop/MIT/6.S980/adaptive-volume-rendering/avr/lib/python3.8/site-packages/IPython/utils/_process_posix.py:148\u001b[0m, in \u001b[0;36mProcessHandler.system\u001b[0;34m(self, cmd)\u001b[0m\n\u001b[1;32m    147\u001b[0m \u001b[39melse\u001b[39;00m:\n\u001b[0;32m--> 148\u001b[0m     child \u001b[39m=\u001b[39m pexpect\u001b[39m.\u001b[39;49mspawn(\u001b[39mself\u001b[39;49m\u001b[39m.\u001b[39;49msh, args\u001b[39m=\u001b[39;49m[\u001b[39m'\u001b[39;49m\u001b[39m-c\u001b[39;49m\u001b[39m'\u001b[39;49m, cmd])  \u001b[39m# Vanilla Pexpect\u001b[39;00m\n\u001b[1;32m    149\u001b[0m flush \u001b[39m=\u001b[39m sys\u001b[39m.\u001b[39mstdout\u001b[39m.\u001b[39mflush\n",
            "File \u001b[0;32m~/Desktop/MIT/6.S980/adaptive-volume-rendering/avr/lib/python3.8/site-packages/pexpect/pty_spawn.py:205\u001b[0m, in \u001b[0;36mspawn.__init__\u001b[0;34m(self, command, args, timeout, maxread, searchwindowsize, logfile, cwd, env, ignore_sighup, echo, preexec_fn, encoding, codec_errors, dimensions, use_poll)\u001b[0m\n\u001b[1;32m    204\u001b[0m \u001b[39melse\u001b[39;00m:\n\u001b[0;32m--> 205\u001b[0m     \u001b[39mself\u001b[39;49m\u001b[39m.\u001b[39;49m_spawn(command, args, preexec_fn, dimensions)\n\u001b[1;32m    206\u001b[0m \u001b[39mself\u001b[39m\u001b[39m.\u001b[39muse_poll \u001b[39m=\u001b[39m use_poll\n",
            "File \u001b[0;32m~/Desktop/MIT/6.S980/adaptive-volume-rendering/avr/lib/python3.8/site-packages/pexpect/pty_spawn.py:303\u001b[0m, in \u001b[0;36mspawn._spawn\u001b[0;34m(self, command, args, preexec_fn, dimensions)\u001b[0m\n\u001b[1;32m    300\u001b[0m     \u001b[39mself\u001b[39m\u001b[39m.\u001b[39margs \u001b[39m=\u001b[39m [a \u001b[39mif\u001b[39;00m \u001b[39misinstance\u001b[39m(a, \u001b[39mbytes\u001b[39m) \u001b[39melse\u001b[39;00m a\u001b[39m.\u001b[39mencode(\u001b[39mself\u001b[39m\u001b[39m.\u001b[39mencoding)\n\u001b[1;32m    301\u001b[0m                  \u001b[39mfor\u001b[39;00m a \u001b[39min\u001b[39;00m \u001b[39mself\u001b[39m\u001b[39m.\u001b[39margs]\n\u001b[0;32m--> 303\u001b[0m \u001b[39mself\u001b[39m\u001b[39m.\u001b[39mptyproc \u001b[39m=\u001b[39m \u001b[39mself\u001b[39;49m\u001b[39m.\u001b[39;49m_spawnpty(\u001b[39mself\u001b[39;49m\u001b[39m.\u001b[39;49margs, env\u001b[39m=\u001b[39;49m\u001b[39mself\u001b[39;49m\u001b[39m.\u001b[39;49menv,\n\u001b[1;32m    304\u001b[0m                              cwd\u001b[39m=\u001b[39;49m\u001b[39mself\u001b[39;49m\u001b[39m.\u001b[39;49mcwd, \u001b[39m*\u001b[39;49m\u001b[39m*\u001b[39;49mkwargs)\n\u001b[1;32m    306\u001b[0m \u001b[39mself\u001b[39m\u001b[39m.\u001b[39mpid \u001b[39m=\u001b[39m \u001b[39mself\u001b[39m\u001b[39m.\u001b[39mptyproc\u001b[39m.\u001b[39mpid\n",
            "File \u001b[0;32m~/Desktop/MIT/6.S980/adaptive-volume-rendering/avr/lib/python3.8/site-packages/pexpect/pty_spawn.py:315\u001b[0m, in \u001b[0;36mspawn._spawnpty\u001b[0;34m(self, args, **kwargs)\u001b[0m\n\u001b[1;32m    314\u001b[0m \u001b[39m'''Spawn a pty and return an instance of PtyProcess.'''\u001b[39;00m\n\u001b[0;32m--> 315\u001b[0m \u001b[39mreturn\u001b[39;00m ptyprocess\u001b[39m.\u001b[39;49mPtyProcess\u001b[39m.\u001b[39;49mspawn(args, \u001b[39m*\u001b[39;49m\u001b[39m*\u001b[39;49mkwargs)\n",
            "File \u001b[0;32m~/Desktop/MIT/6.S980/adaptive-volume-rendering/avr/lib/python3.8/site-packages/ptyprocess/ptyprocess.py:315\u001b[0m, in \u001b[0;36mPtyProcess.spawn\u001b[0;34m(cls, argv, cwd, env, echo, preexec_fn, dimensions, pass_fds)\u001b[0m\n\u001b[1;32m    314\u001b[0m os\u001b[39m.\u001b[39mclose(exec_err_pipe_write)\n\u001b[0;32m--> 315\u001b[0m exec_err_data \u001b[39m=\u001b[39m os\u001b[39m.\u001b[39;49mread(exec_err_pipe_read, \u001b[39m4096\u001b[39;49m)\n\u001b[1;32m    316\u001b[0m os\u001b[39m.\u001b[39mclose(exec_err_pipe_read)\n",
            "\u001b[0;31mKeyboardInterrupt\u001b[0m: ",
            "\nDuring handling of the above exception, another exception occurred:\n",
            "\u001b[0;31mUnboundLocalError\u001b[0m                         Traceback (most recent call last)",
            "Cell \u001b[0;32mIn [5], line 4\u001b[0m\n\u001b[1;32m      1\u001b[0m \u001b[39m# Download data and weights\u001b[39;00m\n\u001b[1;32m      2\u001b[0m \n\u001b[1;32m      3\u001b[0m \u001b[39m# Make a new directory\u001b[39;00m\n\u001b[0;32m----> 4\u001b[0m get_ipython()\u001b[39m.\u001b[39;49msystem(\u001b[39m'\u001b[39;49m\u001b[39mmkdir data\u001b[39;49m\u001b[39m'\u001b[39;49m)\n\u001b[1;32m      5\u001b[0m get_ipython()\u001b[39m.\u001b[39msystem(\u001b[39m'\u001b[39m\u001b[39mmkdir checkpoints\u001b[39m\u001b[39m'\u001b[39m)\n\u001b[1;32m      7\u001b[0m \u001b[39m# Download Test Dataset\u001b[39;00m\n",
            "File \u001b[0;32m~/Desktop/MIT/6.S980/adaptive-volume-rendering/avr/lib/python3.8/site-packages/ipykernel/zmqshell.py:633\u001b[0m, in \u001b[0;36mZMQInteractiveShell.system_piped\u001b[0;34m(self, cmd)\u001b[0m\n\u001b[1;32m    631\u001b[0m         \u001b[39mself\u001b[39m\u001b[39m.\u001b[39muser_ns[\u001b[39m\"\u001b[39m\u001b[39m_exit_code\u001b[39m\u001b[39m\"\u001b[39m] \u001b[39m=\u001b[39m system(cmd)\n\u001b[1;32m    632\u001b[0m \u001b[39melse\u001b[39;00m:\n\u001b[0;32m--> 633\u001b[0m     \u001b[39mself\u001b[39m\u001b[39m.\u001b[39muser_ns[\u001b[39m\"\u001b[39m\u001b[39m_exit_code\u001b[39m\u001b[39m\"\u001b[39m] \u001b[39m=\u001b[39m system(\u001b[39mself\u001b[39;49m\u001b[39m.\u001b[39;49mvar_expand(cmd, depth\u001b[39m=\u001b[39;49m\u001b[39m1\u001b[39;49m))\n",
            "File \u001b[0;32m~/Desktop/MIT/6.S980/adaptive-volume-rendering/avr/lib/python3.8/site-packages/IPython/utils/_process_posix.py:164\u001b[0m, in \u001b[0;36mProcessHandler.system\u001b[0;34m(self, cmd)\u001b[0m\n\u001b[1;32m    159\u001b[0m         out_size \u001b[39m=\u001b[39m \u001b[39mlen\u001b[39m(child\u001b[39m.\u001b[39mbefore)\n\u001b[1;32m    160\u001b[0m \u001b[39mexcept\u001b[39;00m \u001b[39mKeyboardInterrupt\u001b[39;00m:\n\u001b[1;32m    161\u001b[0m     \u001b[39m# We need to send ^C to the process.  The ascii code for '^C' is 3\u001b[39;00m\n\u001b[1;32m    162\u001b[0m     \u001b[39m# (the character is known as ETX for 'End of Text', see\u001b[39;00m\n\u001b[1;32m    163\u001b[0m     \u001b[39m# curses.ascii.ETX).\u001b[39;00m\n\u001b[0;32m--> 164\u001b[0m     child\u001b[39m.\u001b[39msendline(\u001b[39mchr\u001b[39m(\u001b[39m3\u001b[39m))\n\u001b[1;32m    165\u001b[0m     \u001b[39m# Read and print any more output the program might produce on its\u001b[39;00m\n\u001b[1;32m    166\u001b[0m     \u001b[39m# way out.\u001b[39;00m\n\u001b[1;32m    167\u001b[0m     \u001b[39mtry\u001b[39;00m:\n",
            "\u001b[0;31mUnboundLocalError\u001b[0m: local variable 'child' referenced before assignment"
          ]
        }
      ],
      "source": [
        "# Download data and weights\n",
        "\n",
        "# Make a new directory\n",
        "!mkdir data\n",
        "!mkdir checkpoints\n",
        "\n",
        "# Download Test Dataset\n",
        "if not os.path.exists(f\"{root_dir}data/cars_train.hdf5\"):\n",
        "    # Download SRNs-cars dataset\n",
        "    gdown.download(\"https://drive.google.com/uc?id={}\".format(\"1SBjlsizq0sFNkCZxMQh-pNRi0HyFozKb\"),f\"{root_dir}data/cars_train.hdf5\")\n",
        "\n",
        "\n",
        "## Download pretrained weights from PixelNeRF\n",
        "if not os.path.exists(f\"{root_dir}checkpoints/pixel_nerf_weights.zip\"):\n",
        "  gdown.download(\"https://drive.google.com/uc?id={}\".format(\"1UO_rL201guN6euoWkCOn-XpqR2e8o6ju\"),f\"{root_dir}checkpoints/pixel_nerf_weights.zip\")\n",
        "  !unzip checkpoints/pixel_nerf_weights.zip -d checkpoints/"
      ]
    },
    {
      "cell_type": "code",
      "execution_count": null,
      "metadata": {},
      "outputs": [],
      "source": [
        "# # View test image\n",
        "# sl = 128\n",
        "# dataset = SRNsCars(root_dir,img_sidelength=sl)\n",
        "# mi = next(iter(dataset))\n",
        "\n",
        "# rgb = mi['images'].reshape(sl, sl, 3)\n",
        "\n",
        "# plt.imshow(rgb)\n",
        "# plt.show()\n",
        "\n",
        "# print(\"Cam2world \", mi['cam2world'])\n",
        "# print(\"Intrinsics \", mi['intrinsics'])\n",
        "# print(\"Pixel coords\", mi['x_pix'], mi['x_pix'].max())\n",
        "# print(\"Scene idx\", mi['idx'])\n",
        "\n",
        "\n",
        "# # Below are for pixelnerf convention\n",
        "# key = \"4e384de22a760ef72e877e82c90c24d\"\n",
        "\n",
        "\n",
        "# for i in range(250):\n",
        "#     observation_idx = list(str(100000 + i))\n",
        "#     observation_idx[0] = '0'\n",
        "#     observation_idx = \"\".join(observation_idx)\n",
        "#     pose_path = f\"{root_dir}data/cars_train/{key}/pose/{observation_idx}.txt\"\n",
        "#     pose = torch.from_numpy(\n",
        "#                 np.loadtxt(pose_path, dtype=np.float32).reshape(4, 4)\n",
        "#             )\n",
        "#     #print(abs(pose[0,0] - mi['cam2world'][0,0]))\n",
        "#     if abs(pose[0,0] - mi['cam2world'][0,0]) < 2e-2:\n",
        "#         print(f'found it! observation number {observation_idx}')\n",
        "#         print(pose)\n",
        "\n",
        "#         rgb_path = f\"{root_dir}data/cars_train/{key}/rgb/{observation_idx}.png\"\n",
        "#         img = imageio.imread(rgb_path)[..., :3]\n",
        "#         to_tensor = transforms.ToTensor()\n",
        "#         img_tensor = to_tensor(img)\n",
        "#         plt.imshow(img)\n"
      ]
    },
    {
      "cell_type": "code",
      "execution_count": null,
      "metadata": {},
      "outputs": [],
      "source": [
        "# Checking axis alignment\n",
        "# sl = 4\n",
        "# print(get_opencv_pixel_coordinates(sl,sl))\n",
        "# Y, X = torch.meshgrid(\n",
        "#         torch.arange(sl, dtype=torch.float32),\n",
        "#         torch.arange(sl, dtype=torch.float32),\n",
        "#     )\n",
        "# print(torch.stack((X, Y)))"
      ]
    },
    {
      "cell_type": "markdown",
      "metadata": {
        "id": "ybadPLmoE4a4"
      },
      "source": [
        "## Renderer"
      ]
    },
    {
      "cell_type": "markdown",
      "metadata": {
        "id": "pft_potR-0Ut"
      },
      "source": [
        "Loading PixlNeRF models\n",
        "\n",
        "- The volume renderer is in src/nerf.py\n",
        "- Can easily wrap a net with a renderer using _RenderWrapper function\n",
        "- The current volume renderer samples points in the following way:\n",
        "  - Sample 64 coarse points (uniform sample)\n",
        "  - Sample 16 fine points (importance sample, still need to check how)\n",
        "  - Compute an expected depth, then sample 16 random normal points with sd=0.01 around that depth."
      ]
    },
    {
      "cell_type": "code",
      "execution_count": null,
      "metadata": {
        "colab": {
          "base_uri": "https://localhost:8080/",
          "height": 353
        },
        "id": "ExobcYT0XFpg",
        "outputId": "d814ab7f-b8ca-4cad-93e7-54b794fb9466"
      },
      "outputs": [
        {
          "name": "stdout",
          "output_type": "stream",
          "text": [
            "Using torchvision resnet34 encoder\n"
          ]
        },
        {
          "name": "stderr",
          "output_type": "stream",
          "text": [
            "/Users/jameszli/Desktop/MIT/6.S980/adaptive-volume-rendering/avr/lib/python3.8/site-packages/torchvision/models/_utils.py:208: UserWarning: The parameter 'pretrained' is deprecated since 0.13 and may be removed in the future, please use 'weights' instead.\n",
            "  warnings.warn(\n",
            "/Users/jameszli/Desktop/MIT/6.S980/adaptive-volume-rendering/avr/lib/python3.8/site-packages/torchvision/models/_utils.py:223: UserWarning: Arguments other than a weight enum or `None` for 'weights' are deprecated since 0.13 and may be removed in the future. The current behavior is equivalent to passing `weights=ResNet34_Weights.IMAGENET1K_V1`. You can also use `weights=ResNet34_Weights.DEFAULT` to get the most up-to-date weights.\n",
            "  warnings.warn(msg)\n"
          ]
        },
        {
          "name": "stdout",
          "output_type": "stream",
          "text": [
            "Load /Users/jameszli/desktop/MIT/6.S980/checkpoints/srn_car/pixel_nerf_latest\n"
          ]
        }
      ],
      "source": [
        "# Create a custom conf\n",
        "from pyhocon import ConfigFactory\n",
        "conf = ConfigFactory.parse_file(f\"adaptive-volume-rendering/conf/default_mv.conf\")\n",
        "\n",
        "# Create a pixelnerf net\n",
        "net = make_new_model(conf[\"model\"]).to(device=device)\n",
        "net.stop_encoder_grad = True\n",
        "\n",
        "# Load pretrianed weights\n",
        "model_path = f\"{root_dir}checkpoints/srn_car/pixel_nerf_latest\"\n",
        "net.load_weights(model_path)\n",
        "\n",
        "# Combine with volumerenderer\n",
        "renderer = VolumeRenderer.from_conf(conf[\"normal_renderer\"]).to(\n",
        "    device=device\n",
        ")\n",
        "\n",
        "rf_and_renderer = RadFieldAndRenderer(net, renderer).to(device=device)"
      ]
    },
    {
      "cell_type": "code",
      "execution_count": null,
      "metadata": {},
      "outputs": [
        {
          "name": "stdout",
          "output_type": "stream",
          "text": [
            "0\n",
            "pts has shape torch.Size([4, 1024, 32, 3])\n",
            "rds has shape torch.Size([4, 1024, 3])\n",
            "pts has shape torch.Size([1, 131072, 3])\n",
            "rds has shape torch.Size([1, 131072, 3])\n",
            "torch.Size([32])\n",
            "sigma has shape torch.Size([4, 1024, 32, 1])\n",
            "rad has shape torch.Size([4, 1024, 32, 3])\n",
            "torch.Size([32])\n",
            "Step 0: loss = 0.05392\n"
          ]
        },
        {
          "data": {
            "image/png": "[encoded data removed]",
            "text/plain": [
              "<Figure size 1800x600 with 3 Axes>"
            ]
          },
          "metadata": {},
          "output_type": "display_data"
        },
        {
          "name": "stdout",
          "output_type": "stream",
          "text": [
            "1\n",
            "pts has shape torch.Size([4, 1024, 32, 3])\n",
            "rds has shape torch.Size([4, 1024, 3])\n",
            "pts has shape torch.Size([1, 131072, 3])\n",
            "rds has shape torch.Size([1, 131072, 3])\n",
            "torch.Size([32])\n",
            "sigma has shape torch.Size([4, 1024, 32, 1])\n",
            "rad has shape torch.Size([4, 1024, 32, 3])\n",
            "torch.Size([32])\n",
            "2\n",
            "pts has shape torch.Size([4, 1024, 32, 3])\n",
            "rds has shape torch.Size([4, 1024, 3])\n",
            "pts has shape torch.Size([1, 131072, 3])\n",
            "rds has shape torch.Size([1, 131072, 3])\n"
          ]
        },
        {
          "ename": "KeyboardInterrupt",
          "evalue": "",
          "output_type": "error",
          "traceback": [
            "\u001b[0;31m---------------------------------------------------------------------------\u001b[0m",
            "\u001b[0;31mKeyboardInterrupt\u001b[0m                         Traceback (most recent call last)",
            "Cell \u001b[0;32mIn [4], line 11\u001b[0m\n\u001b[1;32m      8\u001b[0m optim \u001b[39m=\u001b[39m torch\u001b[39m.\u001b[39moptim\u001b[39m.\u001b[39mAdam(lr\u001b[39m=\u001b[39m\u001b[39m1e-3\u001b[39m, params\u001b[39m=\u001b[39mrf_and_renderer\u001b[39m.\u001b[39mparameters())\n\u001b[1;32m     10\u001b[0m \u001b[39mtry\u001b[39;00m:\n\u001b[0;32m---> 11\u001b[0m     _ \u001b[39m=\u001b[39m fit(net,\n\u001b[1;32m     12\u001b[0m         rf_and_renderer, \n\u001b[1;32m     13\u001b[0m         \u001b[39miter\u001b[39;49m(data_loader), \n\u001b[1;32m     14\u001b[0m         loss_fn\u001b[39m=\u001b[39;49mmse_loss, \n\u001b[1;32m     15\u001b[0m         resolution\u001b[39m=\u001b[39;49m(sl, sl, \u001b[39m3\u001b[39;49m), \n\u001b[1;32m     16\u001b[0m         plotting_function\u001b[39m=\u001b[39;49mplot_output_ground_truth, \n\u001b[1;32m     17\u001b[0m         optimizer\u001b[39m=\u001b[39;49moptim, \n\u001b[1;32m     18\u001b[0m         total_steps\u001b[39m=\u001b[39;49m\u001b[39m500\u001b[39;49m,\n\u001b[1;32m     19\u001b[0m         steps_til_summary\u001b[39m=\u001b[39;49m\u001b[39m10\u001b[39;49m\n\u001b[1;32m     20\u001b[0m         )\n\u001b[1;32m     21\u001b[0m \u001b[39mexcept\u001b[39;00m \u001b[39mException\u001b[39;00m:\n\u001b[1;32m     22\u001b[0m     \u001b[39mprint\u001b[39m(traceback\u001b[39m.\u001b[39mformat_exc())\n",
            "File \u001b[0;32m~/desktop/MIT/6.S980//adaptive-volume-rendering/trains.py:52\u001b[0m, in \u001b[0;36mfit\u001b[0;34m(net, model, data_iterator, loss_fn, resolution, optimizer, plotting_function, steps_til_summary, total_steps)\u001b[0m\n\u001b[1;32m     46\u001b[0m net\u001b[39m.\u001b[39mencode(src_images, poses, focal, c)\n\u001b[1;32m     51\u001b[0m \u001b[39m# Compute the MLP output for the given input data and compute the loss\u001b[39;00m\n\u001b[0;32m---> 52\u001b[0m model_output \u001b[39m=\u001b[39m model(model_input)\n\u001b[1;32m     54\u001b[0m \u001b[39m# Implement a simple mean-squared-error loss between the \u001b[39;00m\n\u001b[1;32m     55\u001b[0m loss \u001b[39m=\u001b[39m loss_fn(model_output, ground_truth, model) \u001b[39m# Note: loss now takes \"model\" as input.\u001b[39;00m\n",
            "File \u001b[0;32m~/Desktop/MIT/6.S980/adaptive-volume-rendering/avr/lib/python3.8/site-packages/torch/nn/modules/module.py:1190\u001b[0m, in \u001b[0;36mModule._call_impl\u001b[0;34m(self, *input, **kwargs)\u001b[0m\n\u001b[1;32m   1186\u001b[0m \u001b[39m# If we don't have any hooks, we want to skip the rest of the logic in\u001b[39;00m\n\u001b[1;32m   1187\u001b[0m \u001b[39m# this function, and just call forward.\u001b[39;00m\n\u001b[1;32m   1188\u001b[0m \u001b[39mif\u001b[39;00m \u001b[39mnot\u001b[39;00m (\u001b[39mself\u001b[39m\u001b[39m.\u001b[39m_backward_hooks \u001b[39mor\u001b[39;00m \u001b[39mself\u001b[39m\u001b[39m.\u001b[39m_forward_hooks \u001b[39mor\u001b[39;00m \u001b[39mself\u001b[39m\u001b[39m.\u001b[39m_forward_pre_hooks \u001b[39mor\u001b[39;00m _global_backward_hooks\n\u001b[1;32m   1189\u001b[0m         \u001b[39mor\u001b[39;00m _global_forward_hooks \u001b[39mor\u001b[39;00m _global_forward_pre_hooks):\n\u001b[0;32m-> 1190\u001b[0m     \u001b[39mreturn\u001b[39;00m forward_call(\u001b[39m*\u001b[39;49m\u001b[39minput\u001b[39;49m, \u001b[39m*\u001b[39;49m\u001b[39m*\u001b[39;49mkwargs)\n\u001b[1;32m   1191\u001b[0m \u001b[39m# Do not call functions when jit is used\u001b[39;00m\n\u001b[1;32m   1192\u001b[0m full_backward_hooks, non_full_backward_hooks \u001b[39m=\u001b[39m [], []\n",
            "File \u001b[0;32m~/desktop/MIT/6.S980//adaptive-volume-rendering/models.py:346\u001b[0m, in \u001b[0;36mRadFieldAndRenderer.forward\u001b[0;34m(self, model_input)\u001b[0m\n\u001b[1;32m    342\u001b[0m c2w \u001b[39m=\u001b[39m model_input[\u001b[39m'\u001b[39m\u001b[39mcam2world\u001b[39m\u001b[39m'\u001b[39m]\n\u001b[1;32m    344\u001b[0m \u001b[39m#print(f'pixels shape: {xy_pix.shape}')\u001b[39;00m\n\u001b[0;32m--> 346\u001b[0m rgb, depth \u001b[39m=\u001b[39m \u001b[39mself\u001b[39;49m\u001b[39m.\u001b[39;49mrenderer(\n\u001b[1;32m    347\u001b[0m                       c2w,\n\u001b[1;32m    348\u001b[0m                       intrinsics,\n\u001b[1;32m    349\u001b[0m                       xy_pix, \n\u001b[1;32m    350\u001b[0m                       \u001b[39mself\u001b[39;49m\u001b[39m.\u001b[39;49mrf\n\u001b[1;32m    351\u001b[0m                       )\n\u001b[1;32m    353\u001b[0m \u001b[39mreturn\u001b[39;00m rgb, depth\n",
            "File \u001b[0;32m~/Desktop/MIT/6.S980/adaptive-volume-rendering/avr/lib/python3.8/site-packages/torch/nn/modules/module.py:1190\u001b[0m, in \u001b[0;36mModule._call_impl\u001b[0;34m(self, *input, **kwargs)\u001b[0m\n\u001b[1;32m   1186\u001b[0m \u001b[39m# If we don't have any hooks, we want to skip the rest of the logic in\u001b[39;00m\n\u001b[1;32m   1187\u001b[0m \u001b[39m# this function, and just call forward.\u001b[39;00m\n\u001b[1;32m   1188\u001b[0m \u001b[39mif\u001b[39;00m \u001b[39mnot\u001b[39;00m (\u001b[39mself\u001b[39m\u001b[39m.\u001b[39m_backward_hooks \u001b[39mor\u001b[39;00m \u001b[39mself\u001b[39m\u001b[39m.\u001b[39m_forward_hooks \u001b[39mor\u001b[39;00m \u001b[39mself\u001b[39m\u001b[39m.\u001b[39m_forward_pre_hooks \u001b[39mor\u001b[39;00m _global_backward_hooks\n\u001b[1;32m   1189\u001b[0m         \u001b[39mor\u001b[39;00m _global_forward_hooks \u001b[39mor\u001b[39;00m _global_forward_pre_hooks):\n\u001b[0;32m-> 1190\u001b[0m     \u001b[39mreturn\u001b[39;00m forward_call(\u001b[39m*\u001b[39;49m\u001b[39minput\u001b[39;49m, \u001b[39m*\u001b[39;49m\u001b[39m*\u001b[39;49mkwargs)\n\u001b[1;32m   1191\u001b[0m \u001b[39m# Do not call functions when jit is used\u001b[39;00m\n\u001b[1;32m   1192\u001b[0m full_backward_hooks, non_full_backward_hooks \u001b[39m=\u001b[39m [], []\n",
            "File \u001b[0;32m~/desktop/MIT/6.S980//adaptive-volume-rendering/renderers.py:215\u001b[0m, in \u001b[0;36mVolumeRenderer.forward\u001b[0;34m(self, cam2world, intrinsics, x_pix, radiance_field)\u001b[0m\n\u001b[1;32m    209\u001b[0m \u001b[39mprint\u001b[39m(\u001b[39mf\u001b[39m\u001b[39m'\u001b[39m\u001b[39mrds has shape \u001b[39m\u001b[39m{\u001b[39;00mrds\u001b[39m.\u001b[39mshape\u001b[39m}\u001b[39;00m\u001b[39m'\u001b[39m)\n\u001b[1;32m    211\u001b[0m \u001b[39m# Input view directions\u001b[39;00m\n\u001b[1;32m    212\u001b[0m \u001b[39m# (NV*num_ways, 3)\u001b[39;00m\n\u001b[1;32m    213\u001b[0m \n\u001b[1;32m    214\u001b[0m \u001b[39m# Sample the radiance field with the points along the rays.\u001b[39;00m\n\u001b[0;32m--> 215\u001b[0m sigma_rad \u001b[39m=\u001b[39m radiance_field(pts, viewdirs\u001b[39m=\u001b[39;49mrds) \u001b[39m# (SB, NV*num_rays, 4)\u001b[39;00m\n\u001b[1;32m    216\u001b[0m sigma_rad \u001b[39m=\u001b[39m sigma_rad\u001b[39m.\u001b[39msqueeze(\u001b[39m0\u001b[39m)   \u001b[39m# Get rid of SB dimension\u001b[39;00m\n\u001b[1;32m    217\u001b[0m sigma \u001b[39m=\u001b[39m sigma_rad[\u001b[39m.\u001b[39m\u001b[39m.\u001b[39m\u001b[39m.\u001b[39m,\u001b[39m3\u001b[39m]\n",
            "File \u001b[0;32m~/Desktop/MIT/6.S980/adaptive-volume-rendering/avr/lib/python3.8/site-packages/torch/nn/modules/module.py:1190\u001b[0m, in \u001b[0;36mModule._call_impl\u001b[0;34m(self, *input, **kwargs)\u001b[0m\n\u001b[1;32m   1186\u001b[0m \u001b[39m# If we don't have any hooks, we want to skip the rest of the logic in\u001b[39;00m\n\u001b[1;32m   1187\u001b[0m \u001b[39m# this function, and just call forward.\u001b[39;00m\n\u001b[1;32m   1188\u001b[0m \u001b[39mif\u001b[39;00m \u001b[39mnot\u001b[39;00m (\u001b[39mself\u001b[39m\u001b[39m.\u001b[39m_backward_hooks \u001b[39mor\u001b[39;00m \u001b[39mself\u001b[39m\u001b[39m.\u001b[39m_forward_hooks \u001b[39mor\u001b[39;00m \u001b[39mself\u001b[39m\u001b[39m.\u001b[39m_forward_pre_hooks \u001b[39mor\u001b[39;00m _global_backward_hooks\n\u001b[1;32m   1189\u001b[0m         \u001b[39mor\u001b[39;00m _global_forward_hooks \u001b[39mor\u001b[39;00m _global_forward_pre_hooks):\n\u001b[0;32m-> 1190\u001b[0m     \u001b[39mreturn\u001b[39;00m forward_call(\u001b[39m*\u001b[39;49m\u001b[39minput\u001b[39;49m, \u001b[39m*\u001b[39;49m\u001b[39m*\u001b[39;49mkwargs)\n\u001b[1;32m   1191\u001b[0m \u001b[39m# Do not call functions when jit is used\u001b[39;00m\n\u001b[1;32m   1192\u001b[0m full_backward_hooks, non_full_backward_hooks \u001b[39m=\u001b[39m [], []\n",
            "File \u001b[0;32m~/desktop/MIT/6.S980//adaptive-volume-rendering/models.py:257\u001b[0m, in \u001b[0;36mNewPixelNeRFNet.forward\u001b[0;34m(self, xyz, coarse, viewdirs, far, return_features)\u001b[0m\n\u001b[1;32m    255\u001b[0m \u001b[39m# Run main NeRF network\u001b[39;00m\n\u001b[1;32m    256\u001b[0m \u001b[39mif\u001b[39;00m coarse \u001b[39mor\u001b[39;00m \u001b[39mself\u001b[39m\u001b[39m.\u001b[39mmlp_fine \u001b[39mis\u001b[39;00m \u001b[39mNone\u001b[39;00m:\n\u001b[0;32m--> 257\u001b[0m     mlp_output \u001b[39m=\u001b[39m \u001b[39mself\u001b[39;49m\u001b[39m.\u001b[39;49mmlp_coarse(\n\u001b[1;32m    258\u001b[0m         mlp_input,\n\u001b[1;32m    259\u001b[0m         combine_inner_dims\u001b[39m=\u001b[39;49m(\u001b[39mself\u001b[39;49m\u001b[39m.\u001b[39;49mnum_views_per_obj, B),\n\u001b[1;32m    260\u001b[0m         combine_index\u001b[39m=\u001b[39;49mcombine_index,\n\u001b[1;32m    261\u001b[0m         dim_size\u001b[39m=\u001b[39;49mdim_size,\n\u001b[1;32m    262\u001b[0m     )\n\u001b[1;32m    263\u001b[0m \u001b[39melse\u001b[39;00m:\n\u001b[1;32m    264\u001b[0m     mlp_output \u001b[39m=\u001b[39m \u001b[39mself\u001b[39m\u001b[39m.\u001b[39mmlp_fine(\n\u001b[1;32m    265\u001b[0m         mlp_input,\n\u001b[1;32m    266\u001b[0m         combine_inner_dims\u001b[39m=\u001b[39m(\u001b[39mself\u001b[39m\u001b[39m.\u001b[39mnum_views_per_obj, B),\n\u001b[1;32m    267\u001b[0m         combine_index\u001b[39m=\u001b[39mcombine_index,\n\u001b[1;32m    268\u001b[0m         dim_size\u001b[39m=\u001b[39mdim_size,\n\u001b[1;32m    269\u001b[0m     )\n",
            "File \u001b[0;32m~/Desktop/MIT/6.S980/adaptive-volume-rendering/avr/lib/python3.8/site-packages/torch/nn/modules/module.py:1190\u001b[0m, in \u001b[0;36mModule._call_impl\u001b[0;34m(self, *input, **kwargs)\u001b[0m\n\u001b[1;32m   1186\u001b[0m \u001b[39m# If we don't have any hooks, we want to skip the rest of the logic in\u001b[39;00m\n\u001b[1;32m   1187\u001b[0m \u001b[39m# this function, and just call forward.\u001b[39;00m\n\u001b[1;32m   1188\u001b[0m \u001b[39mif\u001b[39;00m \u001b[39mnot\u001b[39;00m (\u001b[39mself\u001b[39m\u001b[39m.\u001b[39m_backward_hooks \u001b[39mor\u001b[39;00m \u001b[39mself\u001b[39m\u001b[39m.\u001b[39m_forward_hooks \u001b[39mor\u001b[39;00m \u001b[39mself\u001b[39m\u001b[39m.\u001b[39m_forward_pre_hooks \u001b[39mor\u001b[39;00m _global_backward_hooks\n\u001b[1;32m   1189\u001b[0m         \u001b[39mor\u001b[39;00m _global_forward_hooks \u001b[39mor\u001b[39;00m _global_forward_pre_hooks):\n\u001b[0;32m-> 1190\u001b[0m     \u001b[39mreturn\u001b[39;00m forward_call(\u001b[39m*\u001b[39;49m\u001b[39minput\u001b[39;49m, \u001b[39m*\u001b[39;49m\u001b[39m*\u001b[39;49mkwargs)\n\u001b[1;32m   1191\u001b[0m \u001b[39m# Do not call functions when jit is used\u001b[39;00m\n\u001b[1;32m   1192\u001b[0m full_backward_hooks, non_full_backward_hooks \u001b[39m=\u001b[39m [], []\n",
            "File \u001b[0;32m~/desktop/MIT/6.S980//pixel-nerf/src/model/resnetfc.py:182\u001b[0m, in \u001b[0;36mResnetFC.forward\u001b[0;34m(self, zx, combine_inner_dims, combine_index, dim_size)\u001b[0m\n\u001b[1;32m    179\u001b[0m         \u001b[39melse\u001b[39;00m:\n\u001b[1;32m    180\u001b[0m             x \u001b[39m=\u001b[39m x \u001b[39m+\u001b[39m tz\n\u001b[0;32m--> 182\u001b[0m     x \u001b[39m=\u001b[39m \u001b[39mself\u001b[39;49m\u001b[39m.\u001b[39;49mblocks[blkid](x)\n\u001b[1;32m    183\u001b[0m out \u001b[39m=\u001b[39m \u001b[39mself\u001b[39m\u001b[39m.\u001b[39mlin_out(\u001b[39mself\u001b[39m\u001b[39m.\u001b[39mactivation(x))\n\u001b[1;32m    184\u001b[0m \u001b[39mreturn\u001b[39;00m out\n",
            "File \u001b[0;32m~/Desktop/MIT/6.S980/adaptive-volume-rendering/avr/lib/python3.8/site-packages/torch/nn/modules/module.py:1190\u001b[0m, in \u001b[0;36mModule._call_impl\u001b[0;34m(self, *input, **kwargs)\u001b[0m\n\u001b[1;32m   1186\u001b[0m \u001b[39m# If we don't have any hooks, we want to skip the rest of the logic in\u001b[39;00m\n\u001b[1;32m   1187\u001b[0m \u001b[39m# this function, and just call forward.\u001b[39;00m\n\u001b[1;32m   1188\u001b[0m \u001b[39mif\u001b[39;00m \u001b[39mnot\u001b[39;00m (\u001b[39mself\u001b[39m\u001b[39m.\u001b[39m_backward_hooks \u001b[39mor\u001b[39;00m \u001b[39mself\u001b[39m\u001b[39m.\u001b[39m_forward_hooks \u001b[39mor\u001b[39;00m \u001b[39mself\u001b[39m\u001b[39m.\u001b[39m_forward_pre_hooks \u001b[39mor\u001b[39;00m _global_backward_hooks\n\u001b[1;32m   1189\u001b[0m         \u001b[39mor\u001b[39;00m _global_forward_hooks \u001b[39mor\u001b[39;00m _global_forward_pre_hooks):\n\u001b[0;32m-> 1190\u001b[0m     \u001b[39mreturn\u001b[39;00m forward_call(\u001b[39m*\u001b[39;49m\u001b[39minput\u001b[39;49m, \u001b[39m*\u001b[39;49m\u001b[39m*\u001b[39;49mkwargs)\n\u001b[1;32m   1191\u001b[0m \u001b[39m# Do not call functions when jit is used\u001b[39;00m\n\u001b[1;32m   1192\u001b[0m full_backward_hooks, non_full_backward_hooks \u001b[39m=\u001b[39m [], []\n",
            "File \u001b[0;32m~/desktop/MIT/6.S980//pixel-nerf/src/model/resnetfc.py:56\u001b[0m, in \u001b[0;36mResnetBlockFC.forward\u001b[0;34m(self, x)\u001b[0m\n\u001b[1;32m     54\u001b[0m \u001b[39mwith\u001b[39;00m profiler\u001b[39m.\u001b[39mrecord_function(\u001b[39m\"\u001b[39m\u001b[39mresblock\u001b[39m\u001b[39m\"\u001b[39m):\n\u001b[1;32m     55\u001b[0m     net \u001b[39m=\u001b[39m \u001b[39mself\u001b[39m\u001b[39m.\u001b[39mfc_0(\u001b[39mself\u001b[39m\u001b[39m.\u001b[39mactivation(x))\n\u001b[0;32m---> 56\u001b[0m     dx \u001b[39m=\u001b[39m \u001b[39mself\u001b[39;49m\u001b[39m.\u001b[39;49mfc_1(\u001b[39mself\u001b[39;49m\u001b[39m.\u001b[39;49mactivation(net))\n\u001b[1;32m     58\u001b[0m     \u001b[39mif\u001b[39;00m \u001b[39mself\u001b[39m\u001b[39m.\u001b[39mshortcut \u001b[39mis\u001b[39;00m \u001b[39mnot\u001b[39;00m \u001b[39mNone\u001b[39;00m:\n\u001b[1;32m     59\u001b[0m         x_s \u001b[39m=\u001b[39m \u001b[39mself\u001b[39m\u001b[39m.\u001b[39mshortcut(x)\n",
            "File \u001b[0;32m~/Desktop/MIT/6.S980/adaptive-volume-rendering/avr/lib/python3.8/site-packages/torch/nn/modules/module.py:1190\u001b[0m, in \u001b[0;36mModule._call_impl\u001b[0;34m(self, *input, **kwargs)\u001b[0m\n\u001b[1;32m   1186\u001b[0m \u001b[39m# If we don't have any hooks, we want to skip the rest of the logic in\u001b[39;00m\n\u001b[1;32m   1187\u001b[0m \u001b[39m# this function, and just call forward.\u001b[39;00m\n\u001b[1;32m   1188\u001b[0m \u001b[39mif\u001b[39;00m \u001b[39mnot\u001b[39;00m (\u001b[39mself\u001b[39m\u001b[39m.\u001b[39m_backward_hooks \u001b[39mor\u001b[39;00m \u001b[39mself\u001b[39m\u001b[39m.\u001b[39m_forward_hooks \u001b[39mor\u001b[39;00m \u001b[39mself\u001b[39m\u001b[39m.\u001b[39m_forward_pre_hooks \u001b[39mor\u001b[39;00m _global_backward_hooks\n\u001b[1;32m   1189\u001b[0m         \u001b[39mor\u001b[39;00m _global_forward_hooks \u001b[39mor\u001b[39;00m _global_forward_pre_hooks):\n\u001b[0;32m-> 1190\u001b[0m     \u001b[39mreturn\u001b[39;00m forward_call(\u001b[39m*\u001b[39;49m\u001b[39minput\u001b[39;49m, \u001b[39m*\u001b[39;49m\u001b[39m*\u001b[39;49mkwargs)\n\u001b[1;32m   1191\u001b[0m \u001b[39m# Do not call functions when jit is used\u001b[39;00m\n\u001b[1;32m   1192\u001b[0m full_backward_hooks, non_full_backward_hooks \u001b[39m=\u001b[39m [], []\n",
            "File \u001b[0;32m~/Desktop/MIT/6.S980/adaptive-volume-rendering/avr/lib/python3.8/site-packages/torch/nn/modules/linear.py:114\u001b[0m, in \u001b[0;36mLinear.forward\u001b[0;34m(self, input)\u001b[0m\n\u001b[1;32m    113\u001b[0m \u001b[39mdef\u001b[39;00m \u001b[39mforward\u001b[39m(\u001b[39mself\u001b[39m, \u001b[39minput\u001b[39m: Tensor) \u001b[39m-\u001b[39m\u001b[39m>\u001b[39m Tensor:\n\u001b[0;32m--> 114\u001b[0m     \u001b[39mreturn\u001b[39;00m F\u001b[39m.\u001b[39;49mlinear(\u001b[39minput\u001b[39;49m, \u001b[39mself\u001b[39;49m\u001b[39m.\u001b[39;49mweight, \u001b[39mself\u001b[39;49m\u001b[39m.\u001b[39;49mbias)\n",
            "\u001b[0;31mKeyboardInterrupt\u001b[0m: "
          ]
        }
      ],
      "source": [
        "######## TODO\n",
        "# Test dataset\n",
        "sl = 32\n",
        "dataset = SRNsCars(f'{root_dir}',max_num_instances=1, img_sidelength=sl)\n",
        "data_loader = torch.utils.data.DataLoader(dataset, batch_size=4)\n",
        "\n",
        "# Configurations\n",
        "optim = torch.optim.Adam(lr=1e-3, params=rf_and_renderer.parameters())\n",
        "\n",
        "try:\n",
        "    _ = fit(net,\n",
        "        rf_and_renderer, \n",
        "        iter(data_loader), \n",
        "        loss_fn=mse_loss, \n",
        "        resolution=(sl, sl, 3), \n",
        "        plotting_function=plot_output_ground_truth, \n",
        "        optimizer=optim, \n",
        "        total_steps=500,\n",
        "        steps_til_summary=10\n",
        "        )\n",
        "except Exception:\n",
        "    print(traceback.format_exc())\n"
      ]
    },
    {
      "cell_type": "markdown",
      "metadata": {},
      "source": [
        "### PixelNeRF + Raymarcher"
      ]
    },
    {
      "cell_type": "code",
      "execution_count": null,
      "metadata": {},
      "outputs": [
        {
          "name": "stdout",
          "output_type": "stream",
          "text": [
            "Using torchvision resnet34 encoder\n"
          ]
        },
        {
          "name": "stderr",
          "output_type": "stream",
          "text": [
            "/Users/jameszli/Desktop/MIT/6.S980/adaptive-volume-rendering/avr/lib/python3.8/site-packages/torchvision/models/_utils.py:208: UserWarning: The parameter 'pretrained' is deprecated since 0.13 and may be removed in the future, please use 'weights' instead.\n",
            "  warnings.warn(\n",
            "/Users/jameszli/Desktop/MIT/6.S980/adaptive-volume-rendering/avr/lib/python3.8/site-packages/torchvision/models/_utils.py:223: UserWarning: Arguments other than a weight enum or `None` for 'weights' are deprecated since 0.13 and may be removed in the future. The current behavior is equivalent to passing `weights=ResNet34_Weights.IMAGENET1K_V1`. You can also use `weights=ResNet34_Weights.DEFAULT` to get the most up-to-date weights.\n",
            "  warnings.warn(msg)\n"
          ]
        },
        {
          "name": "stdout",
          "output_type": "stream",
          "text": [
            "Load /Users/jameszli/desktop/MIT/6.S980/checkpoints/srn_car/pixel_nerf_latest\n"
          ]
        }
      ],
      "source": [
        "# Create a custom conf\n",
        "from pyhocon import ConfigFactory\n",
        "conf = ConfigFactory.parse_file(f\"adaptive-volume-rendering/conf/default_mv.conf\")\n",
        "\n",
        "# Create a pixelnerf net\n",
        "net = make_new_model(conf[\"model\"]).to(device=device)\n",
        "net.stop_encoder_grad = True\n",
        "\n",
        "# Load pretrianed weights\n",
        "model_path = f\"{root_dir}checkpoints/srn_car/pixel_nerf_latest\"\n",
        "net.load_weights(model_path)\n",
        "\n",
        "# Combine with volumerenderer\n",
        "renderer = Raymarcher.from_conf(conf[\"raymarcher\"]).to(\n",
        "    device=device\n",
        ")\n",
        "\n",
        "rf_and_renderer = RadFieldAndRenderer(net, renderer).to(device=device)"
      ]
    },
    {
      "cell_type": "code",
      "execution_count": null,
      "metadata": {},
      "outputs": [
        {
          "name": "stdout",
          "output_type": "stream",
          "text": [
            "0\n"
          ]
        },
        {
          "name": "stderr",
          "output_type": "stream",
          "text": [
            "/Users/jameszli/Desktop/MIT/6.S980/adaptive-volume-rendering/avr/lib/python3.8/site-packages/torch/functional.py:504: UserWarning: torch.meshgrid: in an upcoming release, it will be required to pass the indexing argument. (Triggered internally at /Users/runner/work/pytorch/pytorch/pytorch/aten/src/ATen/native/TensorShape.cpp:3191.)\n",
            "  return _VF.meshgrid(tensors, **kwargs)  # type: ignore[attr-defined]\n"
          ]
        },
        {
          "name": "stdout",
          "output_type": "stream",
          "text": [
            "Step 0: loss = 0.09610\n"
          ]
        },
        {
          "data": {
            "image/png": "[encoded data removed]",
            "text/plain": [
              "<Figure size 1800x600 with 3 Axes>"
            ]
          },
          "metadata": {},
          "output_type": "display_data"
        },
        {
          "name": "stdout",
          "output_type": "stream",
          "text": [
            "1\n",
            "2\n",
            "3\n",
            "4\n",
            "5\n",
            "6\n",
            "7\n",
            "8\n",
            "9\n",
            "10\n",
            "Step 10: loss = 0.08707\n"
          ]
        },
        {
          "data": {
            "image/png": "[encoded data removed]",
            "text/plain": [
              "<Figure size 1800x600 with 3 Axes>"
            ]
          },
          "metadata": {},
          "output_type": "display_data"
        },
        {
          "name": "stdout",
          "output_type": "stream",
          "text": [
            "11\n",
            "12\n",
            "13\n",
            "14\n",
            "15\n",
            "16\n",
            "17\n",
            "18\n",
            "19\n",
            "20\n",
            "Step 20: loss = 0.09239\n"
          ]
        },
        {
          "data": {
            "image/png": "[encoded data removed]",
            "text/plain": [
              "<Figure size 1800x600 with 3 Axes>"
            ]
          },
          "metadata": {},
          "output_type": "display_data"
        },
        {
          "name": "stdout",
          "output_type": "stream",
          "text": [
            "21\n",
            "22\n"
          ]
        },
        {
          "ename": "KeyboardInterrupt",
          "evalue": "",
          "output_type": "error",
          "traceback": [
            "\u001b[0;31m---------------------------------------------------------------------------\u001b[0m",
            "\u001b[0;31mKeyboardInterrupt\u001b[0m                         Traceback (most recent call last)",
            "Cell \u001b[0;32mIn [3], line 11\u001b[0m\n\u001b[1;32m      8\u001b[0m optim \u001b[39m=\u001b[39m torch\u001b[39m.\u001b[39moptim\u001b[39m.\u001b[39mAdam(lr\u001b[39m=\u001b[39m\u001b[39m1e-3\u001b[39m, params\u001b[39m=\u001b[39mrf_and_renderer\u001b[39m.\u001b[39mparameters())\n\u001b[1;32m     10\u001b[0m \u001b[39mtry\u001b[39;00m:\n\u001b[0;32m---> 11\u001b[0m     _ \u001b[39m=\u001b[39m fit(net,\n\u001b[1;32m     12\u001b[0m         rf_and_renderer, \n\u001b[1;32m     13\u001b[0m         \u001b[39miter\u001b[39;49m(data_loader), \n\u001b[1;32m     14\u001b[0m         loss_fn\u001b[39m=\u001b[39;49mmse_loss, \n\u001b[1;32m     15\u001b[0m         resolution\u001b[39m=\u001b[39;49m(sl, sl, \u001b[39m3\u001b[39;49m), \n\u001b[1;32m     16\u001b[0m         plotting_function\u001b[39m=\u001b[39;49mplot_output_ground_truth, \n\u001b[1;32m     17\u001b[0m         optimizer\u001b[39m=\u001b[39;49moptim, \n\u001b[1;32m     18\u001b[0m         total_steps\u001b[39m=\u001b[39;49m\u001b[39m500\u001b[39;49m,\n\u001b[1;32m     19\u001b[0m         steps_til_summary\u001b[39m=\u001b[39;49m\u001b[39m10\u001b[39;49m\n\u001b[1;32m     20\u001b[0m         )\n\u001b[1;32m     21\u001b[0m \u001b[39mexcept\u001b[39;00m \u001b[39mException\u001b[39;00m:\n\u001b[1;32m     22\u001b[0m     \u001b[39mprint\u001b[39m(traceback\u001b[39m.\u001b[39mformat_exc())\n",
            "File \u001b[0;32m~/desktop/MIT/6.S980//adaptive-volume-rendering/trains.py:58\u001b[0m, in \u001b[0;36mfit\u001b[0;34m(net, model, data_iterator, loss_fn, resolution, optimizer, plotting_function, steps_til_summary, total_steps)\u001b[0m\n\u001b[1;32m     55\u001b[0m loss \u001b[39m=\u001b[39m loss_fn(model_output, ground_truth, model) \u001b[39m# Note: loss now takes \"model\" as input.\u001b[39;00m\n\u001b[1;32m     57\u001b[0m optimizer\u001b[39m.\u001b[39mzero_grad()\n\u001b[0;32m---> 58\u001b[0m loss\u001b[39m.\u001b[39;49mbackward()\n\u001b[1;32m     59\u001b[0m optimizer\u001b[39m.\u001b[39mstep()\n\u001b[1;32m     61\u001b[0m \u001b[39m# Accumulate the losses so that we can plot them later\u001b[39;00m\n\u001b[1;32m     62\u001b[0m \u001b[39m# losses.append(loss.detach().cpu().numpy())            \u001b[39;00m\n\u001b[1;32m     63\u001b[0m \n\u001b[1;32m     64\u001b[0m \u001b[39m# Every so often, we want to show what our model has learned.\u001b[39;00m\n\u001b[1;32m     65\u001b[0m \u001b[39m# It would be boring otherwise!\u001b[39;00m\n",
            "File \u001b[0;32m~/Desktop/MIT/6.S980/adaptive-volume-rendering/avr/lib/python3.8/site-packages/torch/_tensor.py:487\u001b[0m, in \u001b[0;36mTensor.backward\u001b[0;34m(self, gradient, retain_graph, create_graph, inputs)\u001b[0m\n\u001b[1;32m    477\u001b[0m \u001b[39mif\u001b[39;00m has_torch_function_unary(\u001b[39mself\u001b[39m):\n\u001b[1;32m    478\u001b[0m     \u001b[39mreturn\u001b[39;00m handle_torch_function(\n\u001b[1;32m    479\u001b[0m         Tensor\u001b[39m.\u001b[39mbackward,\n\u001b[1;32m    480\u001b[0m         (\u001b[39mself\u001b[39m,),\n\u001b[0;32m   (...)\u001b[0m\n\u001b[1;32m    485\u001b[0m         inputs\u001b[39m=\u001b[39minputs,\n\u001b[1;32m    486\u001b[0m     )\n\u001b[0;32m--> 487\u001b[0m torch\u001b[39m.\u001b[39;49mautograd\u001b[39m.\u001b[39;49mbackward(\n\u001b[1;32m    488\u001b[0m     \u001b[39mself\u001b[39;49m, gradient, retain_graph, create_graph, inputs\u001b[39m=\u001b[39;49minputs\n\u001b[1;32m    489\u001b[0m )\n",
            "File \u001b[0;32m~/Desktop/MIT/6.S980/adaptive-volume-rendering/avr/lib/python3.8/site-packages/torch/autograd/__init__.py:197\u001b[0m, in \u001b[0;36mbackward\u001b[0;34m(tensors, grad_tensors, retain_graph, create_graph, grad_variables, inputs)\u001b[0m\n\u001b[1;32m    192\u001b[0m     retain_graph \u001b[39m=\u001b[39m create_graph\n\u001b[1;32m    194\u001b[0m \u001b[39m# The reason we repeat same the comment below is that\u001b[39;00m\n\u001b[1;32m    195\u001b[0m \u001b[39m# some Python versions print out the first line of a multi-line function\u001b[39;00m\n\u001b[1;32m    196\u001b[0m \u001b[39m# calls in the traceback and some print out the last line\u001b[39;00m\n\u001b[0;32m--> 197\u001b[0m Variable\u001b[39m.\u001b[39;49m_execution_engine\u001b[39m.\u001b[39;49mrun_backward(  \u001b[39m# Calls into the C++ engine to run the backward pass\u001b[39;49;00m\n\u001b[1;32m    198\u001b[0m     tensors, grad_tensors_, retain_graph, create_graph, inputs,\n\u001b[1;32m    199\u001b[0m     allow_unreachable\u001b[39m=\u001b[39;49m\u001b[39mTrue\u001b[39;49;00m, accumulate_grad\u001b[39m=\u001b[39;49m\u001b[39mTrue\u001b[39;49;00m)\n",
            "File \u001b[0;32m~/desktop/MIT/6.S980//adaptive-volume-rendering/renderers.py:249\u001b[0m, in \u001b[0;36mRaymarcher.forward.<locals>.<lambda>\u001b[0;34m(x)\u001b[0m\n\u001b[1;32m    246\u001b[0m state \u001b[39m=\u001b[39m \u001b[39mself\u001b[39m\u001b[39m.\u001b[39mlstm(v\u001b[39m.\u001b[39mreshape(\u001b[39m-\u001b[39m\u001b[39m1\u001b[39m, \u001b[39mself\u001b[39m\u001b[39m.\u001b[39mn_feature_channels), states[\u001b[39m-\u001b[39m\u001b[39m1\u001b[39m])\n\u001b[1;32m    248\u001b[0m \u001b[39mif\u001b[39;00m state[\u001b[39m0\u001b[39m]\u001b[39m.\u001b[39mrequires_grad:\n\u001b[0;32m--> 249\u001b[0m     state[\u001b[39m0\u001b[39m]\u001b[39m.\u001b[39mregister_hook(\u001b[39mlambda\u001b[39;00m x: x\u001b[39m.\u001b[39mclamp(\u001b[39mmin\u001b[39m\u001b[39m=\u001b[39m\u001b[39m-\u001b[39m\u001b[39m10\u001b[39m, \u001b[39mmax\u001b[39m\u001b[39m=\u001b[39m\u001b[39m10\u001b[39m))\n\u001b[1;32m    251\u001b[0m signed_distance \u001b[39m=\u001b[39m \u001b[39mself\u001b[39m\u001b[39m.\u001b[39mout_layer(state[\u001b[39m0\u001b[39m])\u001b[39m.\u001b[39mview(batch_size, num_samples, \u001b[39m1\u001b[39m)\n\u001b[1;32m    252\u001b[0m ray_dirs \u001b[39m=\u001b[39m ray_dirs\u001b[39m.\u001b[39mreshape(batch_size, num_samples,\u001b[39m3\u001b[39m)\n",
            "\u001b[0;31mKeyboardInterrupt\u001b[0m: "
          ]
        }
      ],
      "source": [
        "######## TODO\n",
        "# Test dataset\n",
        "sl = 32\n",
        "dataset = SRNsCars(f'{root_dir}',max_num_instances=1, img_sidelength=sl)\n",
        "data_loader = torch.utils.data.DataLoader(dataset, batch_size=4)\n",
        "\n",
        "# Configurations\n",
        "optim = torch.optim.Adam(lr=1e-3, params=rf_and_renderer.parameters())\n",
        "\n",
        "try:\n",
        "    _ = fit(net,\n",
        "        rf_and_renderer, \n",
        "        iter(data_loader), \n",
        "        loss_fn=mse_loss, \n",
        "        resolution=(sl, sl, 3), \n",
        "        plotting_function=plot_output_ground_truth, \n",
        "        optimizer=optim, \n",
        "        total_steps=500,\n",
        "        steps_til_summary=10\n",
        "        )\n",
        "except Exception:\n",
        "    print(traceback.format_exc())\n"
      ]
    },
    {
      "cell_type": "markdown",
      "metadata": {},
      "source": [
        "### PixelNeRF + Adaptive Volume Renderer"
      ]
    },
    {
      "cell_type": "code",
      "execution_count": null,
      "metadata": {},
      "outputs": [
        {
          "name": "stdout",
          "output_type": "stream",
          "text": [
            "Using torchvision resnet34 encoder\n"
          ]
        },
        {
          "name": "stderr",
          "output_type": "stream",
          "text": [
            "/Users/jameszli/Desktop/MIT/6.S980/adaptive-volume-rendering/avr/lib/python3.8/site-packages/torchvision/models/_utils.py:208: UserWarning: The parameter 'pretrained' is deprecated since 0.13 and may be removed in the future, please use 'weights' instead.\n",
            "  warnings.warn(\n",
            "/Users/jameszli/Desktop/MIT/6.S980/adaptive-volume-rendering/avr/lib/python3.8/site-packages/torchvision/models/_utils.py:223: UserWarning: Arguments other than a weight enum or `None` for 'weights' are deprecated since 0.13 and may be removed in the future. The current behavior is equivalent to passing `weights=ResNet34_Weights.IMAGENET1K_V1`. You can also use `weights=ResNet34_Weights.DEFAULT` to get the most up-to-date weights.\n",
            "  warnings.warn(msg)\n"
          ]
        },
        {
          "name": "stdout",
          "output_type": "stream",
          "text": [
            "Load /Users/jameszli/desktop/MIT/6.S980/checkpoints/srn_car/pixel_nerf_latest\n"
          ]
        }
      ],
      "source": [
        "# Create a custom conf\n",
        "from pyhocon import ConfigFactory\n",
        "conf = ConfigFactory.parse_file(f\"adaptive-volume-rendering/conf/default_mv.conf\")\n",
        "\n",
        "# Create a pixelnerf net\n",
        "net = make_new_model(conf[\"model\"]).to(device=device)\n",
        "net.stop_encoder_grad = True\n",
        "\n",
        "# Load pretrianed weights\n",
        "model_path = f\"{root_dir}checkpoints/srn_car/pixel_nerf_latest\"\n",
        "net.load_weights(model_path)\n",
        "\n",
        "# Combine with volumerenderer\n",
        "renderer = AdaptiveVolumeRenderer.from_conf(conf[\"adaptive_renderer\"]).to(\n",
        "    device=device\n",
        ")\n",
        "\n",
        "rf_and_renderer = RadFieldAndRenderer(net, renderer).to(device=device)"
      ]
    },
    {
      "cell_type": "code",
      "execution_count": null,
      "metadata": {},
      "outputs": [
        {
          "name": "stdout",
          "output_type": "stream",
          "text": [
            "0\n"
          ]
        },
        {
          "name": "stderr",
          "output_type": "stream",
          "text": [
            "/Users/jameszli/Desktop/MIT/6.S980/adaptive-volume-rendering/avr/lib/python3.8/site-packages/torch/functional.py:504: UserWarning: torch.meshgrid: in an upcoming release, it will be required to pass the indexing argument. (Triggered internally at /Users/runner/work/pytorch/pytorch/pytorch/aten/src/ATen/native/TensorShape.cpp:3191.)\n",
            "  return _VF.meshgrid(tensors, **kwargs)  # type: ignore[attr-defined]\n",
            "Clipping input data to the valid range for imshow with RGB data ([0..1] for floats or [0..255] for integers).\n"
          ]
        },
        {
          "name": "stdout",
          "output_type": "stream",
          "text": [
            "Step 0: loss = inf\n"
          ]
        },
        {
          "data": {
            "image/png": "[encoded data removed]",
            "text/plain": [
              "<Figure size 1800x600 with 3 Axes>"
            ]
          },
          "metadata": {},
          "output_type": "display_data"
        },
        {
          "name": "stdout",
          "output_type": "stream",
          "text": [
            "1\n",
            "2\n",
            "3\n",
            "4\n",
            "5\n",
            "6\n",
            "7\n",
            "8\n",
            "9\n",
            "10\n",
            "Step 10: loss = nan\n"
          ]
        },
        {
          "data": {
            "image/png": "[encoded data removed]",
            "text/plain": [
              "<Figure size 1800x600 with 3 Axes>"
            ]
          },
          "metadata": {},
          "output_type": "display_data"
        },
        {
          "name": "stdout",
          "output_type": "stream",
          "text": [
            "11\n"
          ]
        },
        {
          "ename": "KeyboardInterrupt",
          "evalue": "",
          "output_type": "error",
          "traceback": [
            "\u001b[0;31m---------------------------------------------------------------------------\u001b[0m",
            "\u001b[0;31mKeyboardInterrupt\u001b[0m                         Traceback (most recent call last)",
            "Cell \u001b[0;32mIn [3], line 11\u001b[0m\n\u001b[1;32m      8\u001b[0m optim \u001b[39m=\u001b[39m torch\u001b[39m.\u001b[39moptim\u001b[39m.\u001b[39mAdam(lr\u001b[39m=\u001b[39m\u001b[39m1e-3\u001b[39m, params\u001b[39m=\u001b[39mrf_and_renderer\u001b[39m.\u001b[39mparameters())\n\u001b[1;32m     10\u001b[0m \u001b[39mtry\u001b[39;00m:\n\u001b[0;32m---> 11\u001b[0m     _ \u001b[39m=\u001b[39m fit(net,\n\u001b[1;32m     12\u001b[0m         rf_and_renderer, \n\u001b[1;32m     13\u001b[0m         \u001b[39miter\u001b[39;49m(data_loader), \n\u001b[1;32m     14\u001b[0m         loss_fn\u001b[39m=\u001b[39;49mmse_loss, \n\u001b[1;32m     15\u001b[0m         resolution\u001b[39m=\u001b[39;49m(sl, sl, \u001b[39m3\u001b[39;49m), \n\u001b[1;32m     16\u001b[0m         plotting_function\u001b[39m=\u001b[39;49mplot_output_ground_truth, \n\u001b[1;32m     17\u001b[0m         optimizer\u001b[39m=\u001b[39;49moptim, \n\u001b[1;32m     18\u001b[0m         total_steps\u001b[39m=\u001b[39;49m\u001b[39m500\u001b[39;49m,\n\u001b[1;32m     19\u001b[0m         steps_til_summary\u001b[39m=\u001b[39;49m\u001b[39m10\u001b[39;49m\n\u001b[1;32m     20\u001b[0m         )\n\u001b[1;32m     21\u001b[0m \u001b[39mexcept\u001b[39;00m \u001b[39mException\u001b[39;00m:\n\u001b[1;32m     22\u001b[0m     \u001b[39mprint\u001b[39m(traceback\u001b[39m.\u001b[39mformat_exc())\n",
            "File \u001b[0;32m~/desktop/MIT/6.S980//adaptive-volume-rendering/trains.py:58\u001b[0m, in \u001b[0;36mfit\u001b[0;34m(net, model, data_iterator, loss_fn, resolution, optimizer, plotting_function, steps_til_summary, total_steps)\u001b[0m\n\u001b[1;32m     55\u001b[0m loss \u001b[39m=\u001b[39m loss_fn(model_output, ground_truth, model) \u001b[39m# Note: loss now takes \"model\" as input.\u001b[39;00m\n\u001b[1;32m     57\u001b[0m optimizer\u001b[39m.\u001b[39mzero_grad()\n\u001b[0;32m---> 58\u001b[0m loss\u001b[39m.\u001b[39;49mbackward()\n\u001b[1;32m     59\u001b[0m optimizer\u001b[39m.\u001b[39mstep()\n\u001b[1;32m     61\u001b[0m \u001b[39m# Accumulate the losses so that we can plot them later\u001b[39;00m\n\u001b[1;32m     62\u001b[0m \u001b[39m# losses.append(loss.detach().cpu().numpy())            \u001b[39;00m\n\u001b[1;32m     63\u001b[0m \n\u001b[1;32m     64\u001b[0m \u001b[39m# Every so often, we want to show what our model has learned.\u001b[39;00m\n\u001b[1;32m     65\u001b[0m \u001b[39m# It would be boring otherwise!\u001b[39;00m\n",
            "File \u001b[0;32m~/Desktop/MIT/6.S980/adaptive-volume-rendering/avr/lib/python3.8/site-packages/torch/_tensor.py:487\u001b[0m, in \u001b[0;36mTensor.backward\u001b[0;34m(self, gradient, retain_graph, create_graph, inputs)\u001b[0m\n\u001b[1;32m    477\u001b[0m \u001b[39mif\u001b[39;00m has_torch_function_unary(\u001b[39mself\u001b[39m):\n\u001b[1;32m    478\u001b[0m     \u001b[39mreturn\u001b[39;00m handle_torch_function(\n\u001b[1;32m    479\u001b[0m         Tensor\u001b[39m.\u001b[39mbackward,\n\u001b[1;32m    480\u001b[0m         (\u001b[39mself\u001b[39m,),\n\u001b[0;32m   (...)\u001b[0m\n\u001b[1;32m    485\u001b[0m         inputs\u001b[39m=\u001b[39minputs,\n\u001b[1;32m    486\u001b[0m     )\n\u001b[0;32m--> 487\u001b[0m torch\u001b[39m.\u001b[39;49mautograd\u001b[39m.\u001b[39;49mbackward(\n\u001b[1;32m    488\u001b[0m     \u001b[39mself\u001b[39;49m, gradient, retain_graph, create_graph, inputs\u001b[39m=\u001b[39;49minputs\n\u001b[1;32m    489\u001b[0m )\n",
            "File \u001b[0;32m~/Desktop/MIT/6.S980/adaptive-volume-rendering/avr/lib/python3.8/site-packages/torch/autograd/__init__.py:197\u001b[0m, in \u001b[0;36mbackward\u001b[0;34m(tensors, grad_tensors, retain_graph, create_graph, grad_variables, inputs)\u001b[0m\n\u001b[1;32m    192\u001b[0m     retain_graph \u001b[39m=\u001b[39m create_graph\n\u001b[1;32m    194\u001b[0m \u001b[39m# The reason we repeat same the comment below is that\u001b[39;00m\n\u001b[1;32m    195\u001b[0m \u001b[39m# some Python versions print out the first line of a multi-line function\u001b[39;00m\n\u001b[1;32m    196\u001b[0m \u001b[39m# calls in the traceback and some print out the last line\u001b[39;00m\n\u001b[0;32m--> 197\u001b[0m Variable\u001b[39m.\u001b[39;49m_execution_engine\u001b[39m.\u001b[39;49mrun_backward(  \u001b[39m# Calls into the C++ engine to run the backward pass\u001b[39;49;00m\n\u001b[1;32m    198\u001b[0m     tensors, grad_tensors_, retain_graph, create_graph, inputs,\n\u001b[1;32m    199\u001b[0m     allow_unreachable\u001b[39m=\u001b[39;49m\u001b[39mTrue\u001b[39;49;00m, accumulate_grad\u001b[39m=\u001b[39;49m\u001b[39mTrue\u001b[39;49;00m)\n",
            "File \u001b[0;32m~/desktop/MIT/6.S980//adaptive-volume-rendering/renderers.py:446\u001b[0m, in \u001b[0;36mAdaptiveVolumeRenderer.forward.<locals>.<lambda>\u001b[0;34m(x)\u001b[0m\n\u001b[1;32m    443\u001b[0m state \u001b[39m=\u001b[39m \u001b[39mself\u001b[39m\u001b[39m.\u001b[39mlstm(v\u001b[39m.\u001b[39mreshape(\u001b[39m-\u001b[39m\u001b[39m1\u001b[39m, \u001b[39mself\u001b[39m\u001b[39m.\u001b[39mn_feature_channels), states[\u001b[39m-\u001b[39m\u001b[39m1\u001b[39m])\n\u001b[1;32m    445\u001b[0m \u001b[39mif\u001b[39;00m state[\u001b[39m0\u001b[39m]\u001b[39m.\u001b[39mrequires_grad:\n\u001b[0;32m--> 446\u001b[0m     state[\u001b[39m0\u001b[39m]\u001b[39m.\u001b[39mregister_hook(\u001b[39mlambda\u001b[39;00m x: x\u001b[39m.\u001b[39mclamp(\u001b[39mmin\u001b[39m\u001b[39m=\u001b[39m\u001b[39m-\u001b[39m\u001b[39m10\u001b[39m, \u001b[39mmax\u001b[39m\u001b[39m=\u001b[39m\u001b[39m10\u001b[39m))\n\u001b[1;32m    448\u001b[0m signed_distance \u001b[39m=\u001b[39m \u001b[39mself\u001b[39m\u001b[39m.\u001b[39mout_layer(state[\u001b[39m0\u001b[39m])\u001b[39m.\u001b[39mview(batch_size, num_samples, \u001b[39m1\u001b[39m)\n\u001b[1;32m    449\u001b[0m ray_dirs \u001b[39m=\u001b[39m ray_dirs\u001b[39m.\u001b[39mreshape(batch_size, num_samples,\u001b[39m3\u001b[39m)\n",
            "\u001b[0;31mKeyboardInterrupt\u001b[0m: "
          ]
        }
      ],
      "source": [
        "######## TODO\n",
        "# Test dataset\n",
        "sl = 32\n",
        "dataset = SRNsCars(f'{root_dir}',max_num_instances=1, img_sidelength=sl)\n",
        "data_loader = torch.utils.data.DataLoader(dataset, batch_size=4)\n",
        "\n",
        "# Configurations\n",
        "optim = torch.optim.Adam(lr=1e-3, params=rf_and_renderer.parameters())\n",
        "\n",
        "try:\n",
        "    _ = fit(net,\n",
        "        rf_and_renderer, \n",
        "        iter(data_loader), \n",
        "        loss_fn=mse_loss, \n",
        "        resolution=(sl, sl, 3), \n",
        "        plotting_function=plot_output_ground_truth, \n",
        "        optimizer=optim, \n",
        "        total_steps=500,\n",
        "        steps_til_summary=10\n",
        "        )\n",
        "except Exception:\n",
        "    print(traceback.format_exc())\n"
      ]
    },
    {
      "cell_type": "code",
      "execution_count": null,
      "metadata": {},
      "outputs": [],
      "source": []
    }
  ],
  "metadata": {
    "colab": {
      "provenance": []
    },
    "gpuClass": "standard",
    "kernelspec": {
      "display_name": "Python 3.8.12 ('avr': venv)",
      "language": "python",
      "name": "python3"
    },
    "language_info": {
      "codemirror_mode": {
        "name": "ipython",
        "version": 3
      },
      "file_extension": ".py",
      "mimetype": "text/x-python",
      "name": "python",
      "nbconvert_exporter": "python",
      "pygments_lexer": "ipython3",
      "version": "3.8.12"
    },
    "vscode": {
      "interpreter": {
        "hash": "f9219e61a7407c26718043830c8679afa4d1660f781b2d4f162495e2916807dc"
      }
    }
  },
  "nbformat": 4,
  "nbformat_minor": 0
}
