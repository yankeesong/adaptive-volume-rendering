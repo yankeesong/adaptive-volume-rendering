{
  "cells": [
    {
      "cell_type": "markdown",
      "metadata": {
        "id": "P3_IvSlv8esf"
      },
      "source": [
        "## Directory Structure\n",
        "PLEASE make sure your directory looks like this:\n",
        "- root_dir\n",
        "    - pixel-nerf (clone/pull from github)\n",
        "    - adaptive-volume-rendering (clone/pull from github)\n",
        "        - 6S980_Project.ipynb\n",
        "    - scene-representation-networks (clone/pull from github)\n",
        "    - data\n",
        "    - checkpoints\n",
        "    - ......\n",
        "    \n",
        "Then set your pwd to root_dir\n",
        "\n",
        "## Relevant Repos\n",
        "\n",
        "- PixelNeRF repo: https://github.com/sxyu/pixel-nerf\n",
        "\n",
        "- SRN repo: https://github.com/vsitzmann/scene-representation-networks\n",
        "\n",
        "- SRN raymarcher algorithm: https://github.com/vsitzmann/scene-representation-networks/blob/master/custom_layers.py\n",
        "\n",
        "## Data\n",
        "\n",
        "- Currently using cars dataset from SRN\n",
        "\n",
        "## What we did\n",
        "\n",
        "- Yanke: Now all helper functions are in the github repo\n",
        "- Yanke: Modified data shape so that they are compatible with PixelNeRF\n",
        "\n",
        "\n",
        "## TODO\n",
        "- Missing trainer (can borrow some from HW3)\n",
        "- Now normal renderer is just simple evenly sample. Need to add importance weighting later."
      ]
    },
    {
      "cell_type": "code",
      "execution_count": 2,
      "metadata": {
        "colab": {
          "base_uri": "https://localhost:8080/",
          "height": 1000
        },
        "id": "GJqkDl0wKx-z",
        "outputId": "81475fe5-c835-493c-f9d8-cedaba11c3c7"
      },
      "outputs": [
        {
          "name": "stdout",
          "output_type": "stream",
          "text": [
            "/Users/yankesong/Documents/YankeSong/Harvard Textbook/MIT 6.S980/Project\n",
            "Requirement already satisfied: torch in /Library/Frameworks/Python.framework/Versions/3.9/lib/python3.9/site-packages (from -r adaptive-volume-rendering/requirements.txt (line 1)) (1.13.0)\n",
            "Requirement already satisfied: torchvision in /Library/Frameworks/Python.framework/Versions/3.9/lib/python3.9/site-packages (from -r adaptive-volume-rendering/requirements.txt (line 2)) (0.14.0)\n",
            "Requirement already satisfied: pretrainedmodels in /Library/Frameworks/Python.framework/Versions/3.9/lib/python3.9/site-packages (from -r adaptive-volume-rendering/requirements.txt (line 3)) (0.7.4)\n",
            "Requirement already satisfied: pyhocon in /Library/Frameworks/Python.framework/Versions/3.9/lib/python3.9/site-packages (from -r adaptive-volume-rendering/requirements.txt (line 4)) (0.3.59)\n",
            "Requirement already satisfied: imageio in /Library/Frameworks/Python.framework/Versions/3.9/lib/python3.9/site-packages (from -r adaptive-volume-rendering/requirements.txt (line 5)) (2.22.4)\n",
            "Requirement already satisfied: opencv-python in /Library/Frameworks/Python.framework/Versions/3.9/lib/python3.9/site-packages (from -r adaptive-volume-rendering/requirements.txt (line 6)) (4.6.0.66)\n",
            "Requirement already satisfied: imageio-ffmpeg in /Library/Frameworks/Python.framework/Versions/3.9/lib/python3.9/site-packages (from -r adaptive-volume-rendering/requirements.txt (line 7)) (0.4.7)\n",
            "Requirement already satisfied: tensorboard in /Library/Frameworks/Python.framework/Versions/3.9/lib/python3.9/site-packages (from -r adaptive-volume-rendering/requirements.txt (line 8)) (2.11.0)\n",
            "Requirement already satisfied: dotmap in /Library/Frameworks/Python.framework/Versions/3.9/lib/python3.9/site-packages (from -r adaptive-volume-rendering/requirements.txt (line 9)) (1.3.30)\n",
            "Requirement already satisfied: numpy in /Library/Frameworks/Python.framework/Versions/3.9/lib/python3.9/site-packages (from -r adaptive-volume-rendering/requirements.txt (line 10)) (1.23.4)\n",
            "Requirement already satisfied: scipy in /Library/Frameworks/Python.framework/Versions/3.9/lib/python3.9/site-packages (from -r adaptive-volume-rendering/requirements.txt (line 11)) (1.9.3)\n",
            "Requirement already satisfied: scikit-image in /Library/Frameworks/Python.framework/Versions/3.9/lib/python3.9/site-packages (from -r adaptive-volume-rendering/requirements.txt (line 12)) (0.19.3)\n",
            "Requirement already satisfied: ipdb in /Library/Frameworks/Python.framework/Versions/3.9/lib/python3.9/site-packages (from -r adaptive-volume-rendering/requirements.txt (line 13)) (0.13.9)\n",
            "Requirement already satisfied: matplotlib in /Library/Frameworks/Python.framework/Versions/3.9/lib/python3.9/site-packages (from -r adaptive-volume-rendering/requirements.txt (line 14)) (3.6.2)\n",
            "Requirement already satisfied: tqdm in /Library/Frameworks/Python.framework/Versions/3.9/lib/python3.9/site-packages (from -r adaptive-volume-rendering/requirements.txt (line 15)) (4.64.1)\n",
            "Requirement already satisfied: lpips in /Library/Frameworks/Python.framework/Versions/3.9/lib/python3.9/site-packages (from -r adaptive-volume-rendering/requirements.txt (line 16)) (0.1.4)\n",
            "Requirement already satisfied: einops in /Library/Frameworks/Python.framework/Versions/3.9/lib/python3.9/site-packages (from -r adaptive-volume-rendering/requirements.txt (line 17)) (0.6.0)\n",
            "Requirement already satisfied: gdown in /Library/Frameworks/Python.framework/Versions/3.9/lib/python3.9/site-packages (from -r adaptive-volume-rendering/requirements.txt (line 18)) (4.5.3)\n",
            "Requirement already satisfied: h5py in /Library/Frameworks/Python.framework/Versions/3.9/lib/python3.9/site-packages (from -r adaptive-volume-rendering/requirements.txt (line 19)) (3.7.0)\n",
            "Requirement already satisfied: importlib in /Library/Frameworks/Python.framework/Versions/3.9/lib/python3.9/site-packages (from -r adaptive-volume-rendering/requirements.txt (line 20)) (1.0.4)\n",
            "Requirement already satisfied: typing-extensions in /Library/Frameworks/Python.framework/Versions/3.9/lib/python3.9/site-packages (from torch->-r adaptive-volume-rendering/requirements.txt (line 1)) (4.4.0)\n",
            "Requirement already satisfied: requests in /Library/Frameworks/Python.framework/Versions/3.9/lib/python3.9/site-packages (from torchvision->-r adaptive-volume-rendering/requirements.txt (line 2)) (2.28.1)\n",
            "Requirement already satisfied: pillow!=8.3.*,>=5.3.0 in /Library/Frameworks/Python.framework/Versions/3.9/lib/python3.9/site-packages (from torchvision->-r adaptive-volume-rendering/requirements.txt (line 2)) (9.3.0)\n",
            "Requirement already satisfied: munch in /Library/Frameworks/Python.framework/Versions/3.9/lib/python3.9/site-packages (from pretrainedmodels->-r adaptive-volume-rendering/requirements.txt (line 3)) (2.5.0)\n",
            "Requirement already satisfied: pyparsing~=2.0 in /Library/Frameworks/Python.framework/Versions/3.9/lib/python3.9/site-packages (from pyhocon->-r adaptive-volume-rendering/requirements.txt (line 4)) (2.4.7)\n",
            "Requirement already satisfied: tensorboard-data-server<0.7.0,>=0.6.0 in /Library/Frameworks/Python.framework/Versions/3.9/lib/python3.9/site-packages (from tensorboard->-r adaptive-volume-rendering/requirements.txt (line 8)) (0.6.1)\n",
            "Requirement already satisfied: google-auth<3,>=1.6.3 in /Library/Frameworks/Python.framework/Versions/3.9/lib/python3.9/site-packages (from tensorboard->-r adaptive-volume-rendering/requirements.txt (line 8)) (2.14.1)\n",
            "Requirement already satisfied: tensorboard-plugin-wit>=1.6.0 in /Library/Frameworks/Python.framework/Versions/3.9/lib/python3.9/site-packages (from tensorboard->-r adaptive-volume-rendering/requirements.txt (line 8)) (1.8.1)\n",
            "Requirement already satisfied: grpcio>=1.24.3 in /Library/Frameworks/Python.framework/Versions/3.9/lib/python3.9/site-packages (from tensorboard->-r adaptive-volume-rendering/requirements.txt (line 8)) (1.50.0)\n",
            "Requirement already satisfied: absl-py>=0.4 in /Library/Frameworks/Python.framework/Versions/3.9/lib/python3.9/site-packages (from tensorboard->-r adaptive-volume-rendering/requirements.txt (line 8)) (1.3.0)\n",
            "Requirement already satisfied: protobuf<4,>=3.9.2 in /Library/Frameworks/Python.framework/Versions/3.9/lib/python3.9/site-packages (from tensorboard->-r adaptive-volume-rendering/requirements.txt (line 8)) (3.20.3)\n",
            "Requirement already satisfied: wheel>=0.26 in /Library/Frameworks/Python.framework/Versions/3.9/lib/python3.9/site-packages (from tensorboard->-r adaptive-volume-rendering/requirements.txt (line 8)) (0.38.4)\n",
            "Requirement already satisfied: setuptools>=41.0.0 in /Library/Frameworks/Python.framework/Versions/3.9/lib/python3.9/site-packages (from tensorboard->-r adaptive-volume-rendering/requirements.txt (line 8)) (57.4.0)\n",
            "Requirement already satisfied: markdown>=2.6.8 in /Library/Frameworks/Python.framework/Versions/3.9/lib/python3.9/site-packages (from tensorboard->-r adaptive-volume-rendering/requirements.txt (line 8)) (3.4.1)\n",
            "Requirement already satisfied: werkzeug>=1.0.1 in /Library/Frameworks/Python.framework/Versions/3.9/lib/python3.9/site-packages (from tensorboard->-r adaptive-volume-rendering/requirements.txt (line 8)) (2.2.2)\n",
            "Requirement already satisfied: google-auth-oauthlib<0.5,>=0.4.1 in /Library/Frameworks/Python.framework/Versions/3.9/lib/python3.9/site-packages (from tensorboard->-r adaptive-volume-rendering/requirements.txt (line 8)) (0.4.6)\n",
            "Requirement already satisfied: tifffile>=2019.7.26 in /Library/Frameworks/Python.framework/Versions/3.9/lib/python3.9/site-packages (from scikit-image->-r adaptive-volume-rendering/requirements.txt (line 12)) (2022.10.10)\n",
            "Requirement already satisfied: PyWavelets>=1.1.1 in /Library/Frameworks/Python.framework/Versions/3.9/lib/python3.9/site-packages (from scikit-image->-r adaptive-volume-rendering/requirements.txt (line 12)) (1.4.1)\n",
            "Requirement already satisfied: packaging>=20.0 in /Users/yankesong/Library/Python/3.9/lib/python/site-packages (from scikit-image->-r adaptive-volume-rendering/requirements.txt (line 12)) (21.3)\n",
            "Requirement already satisfied: networkx>=2.2 in /Library/Frameworks/Python.framework/Versions/3.9/lib/python3.9/site-packages (from scikit-image->-r adaptive-volume-rendering/requirements.txt (line 12)) (2.8.8)\n",
            "Requirement already satisfied: ipython>=7.17.0 in /Users/yankesong/Library/Python/3.9/lib/python/site-packages (from ipdb->-r adaptive-volume-rendering/requirements.txt (line 13)) (8.5.0)\n",
            "Requirement already satisfied: toml>=0.10.2 in /Library/Frameworks/Python.framework/Versions/3.9/lib/python3.9/site-packages (from ipdb->-r adaptive-volume-rendering/requirements.txt (line 13)) (0.10.2)\n",
            "Requirement already satisfied: decorator in /Users/yankesong/Library/Python/3.9/lib/python/site-packages (from ipdb->-r adaptive-volume-rendering/requirements.txt (line 13)) (5.1.1)\n",
            "Requirement already satisfied: contourpy>=1.0.1 in /Library/Frameworks/Python.framework/Versions/3.9/lib/python3.9/site-packages (from matplotlib->-r adaptive-volume-rendering/requirements.txt (line 14)) (1.0.6)\n",
            "Requirement already satisfied: python-dateutil>=2.7 in /Users/yankesong/Library/Python/3.9/lib/python/site-packages (from matplotlib->-r adaptive-volume-rendering/requirements.txt (line 14)) (2.8.2)\n",
            "Requirement already satisfied: fonttools>=4.22.0 in /Library/Frameworks/Python.framework/Versions/3.9/lib/python3.9/site-packages (from matplotlib->-r adaptive-volume-rendering/requirements.txt (line 14)) (4.38.0)\n",
            "Requirement already satisfied: cycler>=0.10 in /Library/Frameworks/Python.framework/Versions/3.9/lib/python3.9/site-packages (from matplotlib->-r adaptive-volume-rendering/requirements.txt (line 14)) (0.11.0)\n",
            "Requirement already satisfied: kiwisolver>=1.0.1 in /Library/Frameworks/Python.framework/Versions/3.9/lib/python3.9/site-packages (from matplotlib->-r adaptive-volume-rendering/requirements.txt (line 14)) (1.4.4)\n",
            "Requirement already satisfied: filelock in /Library/Frameworks/Python.framework/Versions/3.9/lib/python3.9/site-packages (from gdown->-r adaptive-volume-rendering/requirements.txt (line 18)) (3.8.0)\n",
            "Requirement already satisfied: beautifulsoup4 in /Library/Frameworks/Python.framework/Versions/3.9/lib/python3.9/site-packages (from gdown->-r adaptive-volume-rendering/requirements.txt (line 18)) (4.11.1)\n",
            "Requirement already satisfied: six in /Users/yankesong/Library/Python/3.9/lib/python/site-packages (from gdown->-r adaptive-volume-rendering/requirements.txt (line 18)) (1.16.0)\n",
            "Requirement already satisfied: cachetools<6.0,>=2.0.0 in /Library/Frameworks/Python.framework/Versions/3.9/lib/python3.9/site-packages (from google-auth<3,>=1.6.3->tensorboard->-r adaptive-volume-rendering/requirements.txt (line 8)) (5.2.0)\n",
            "Requirement already satisfied: rsa<5,>=3.1.4 in /Library/Frameworks/Python.framework/Versions/3.9/lib/python3.9/site-packages (from google-auth<3,>=1.6.3->tensorboard->-r adaptive-volume-rendering/requirements.txt (line 8)) (4.9)\n",
            "Requirement already satisfied: pyasn1-modules>=0.2.1 in /Library/Frameworks/Python.framework/Versions/3.9/lib/python3.9/site-packages (from google-auth<3,>=1.6.3->tensorboard->-r adaptive-volume-rendering/requirements.txt (line 8)) (0.2.8)\n",
            "Requirement already satisfied: requests-oauthlib>=0.7.0 in /Library/Frameworks/Python.framework/Versions/3.9/lib/python3.9/site-packages (from google-auth-oauthlib<0.5,>=0.4.1->tensorboard->-r adaptive-volume-rendering/requirements.txt (line 8)) (1.3.1)\n",
            "Requirement already satisfied: pexpect>4.3 in /Users/yankesong/Library/Python/3.9/lib/python/site-packages (from ipython>=7.17.0->ipdb->-r adaptive-volume-rendering/requirements.txt (line 13)) (4.8.0)\n",
            "Requirement already satisfied: appnope in /Users/yankesong/Library/Python/3.9/lib/python/site-packages (from ipython>=7.17.0->ipdb->-r adaptive-volume-rendering/requirements.txt (line 13)) (0.1.3)\n",
            "Requirement already satisfied: traitlets>=5 in /Users/yankesong/Library/Python/3.9/lib/python/site-packages (from ipython>=7.17.0->ipdb->-r adaptive-volume-rendering/requirements.txt (line 13)) (5.4.0)\n",
            "Requirement already satisfied: backcall in /Users/yankesong/Library/Python/3.9/lib/python/site-packages (from ipython>=7.17.0->ipdb->-r adaptive-volume-rendering/requirements.txt (line 13)) (0.2.0)\n",
            "Requirement already satisfied: pygments>=2.4.0 in /Users/yankesong/Library/Python/3.9/lib/python/site-packages (from ipython>=7.17.0->ipdb->-r adaptive-volume-rendering/requirements.txt (line 13)) (2.13.0)\n",
            "Requirement already satisfied: prompt-toolkit<3.1.0,>3.0.1 in /Users/yankesong/Library/Python/3.9/lib/python/site-packages (from ipython>=7.17.0->ipdb->-r adaptive-volume-rendering/requirements.txt (line 13)) (3.0.31)\n",
            "Requirement already satisfied: pickleshare in /Users/yankesong/Library/Python/3.9/lib/python/site-packages (from ipython>=7.17.0->ipdb->-r adaptive-volume-rendering/requirements.txt (line 13)) (0.7.5)\n",
            "Requirement already satisfied: stack-data in /Users/yankesong/Library/Python/3.9/lib/python/site-packages (from ipython>=7.17.0->ipdb->-r adaptive-volume-rendering/requirements.txt (line 13)) (0.5.1)\n",
            "Requirement already satisfied: jedi>=0.16 in /Users/yankesong/Library/Python/3.9/lib/python/site-packages (from ipython>=7.17.0->ipdb->-r adaptive-volume-rendering/requirements.txt (line 13)) (0.18.1)\n",
            "Requirement already satisfied: matplotlib-inline in /Users/yankesong/Library/Python/3.9/lib/python/site-packages (from ipython>=7.17.0->ipdb->-r adaptive-volume-rendering/requirements.txt (line 13)) (0.1.6)\n",
            "Requirement already satisfied: parso<0.9.0,>=0.8.0 in /Users/yankesong/Library/Python/3.9/lib/python/site-packages (from jedi>=0.16->ipython>=7.17.0->ipdb->-r adaptive-volume-rendering/requirements.txt (line 13)) (0.8.3)\n",
            "Requirement already satisfied: importlib-metadata>=4.4 in /Library/Frameworks/Python.framework/Versions/3.9/lib/python3.9/site-packages (from markdown>=2.6.8->tensorboard->-r adaptive-volume-rendering/requirements.txt (line 8)) (5.0.0)\n",
            "Requirement already satisfied: zipp>=0.5 in /Library/Frameworks/Python.framework/Versions/3.9/lib/python3.9/site-packages (from importlib-metadata>=4.4->markdown>=2.6.8->tensorboard->-r adaptive-volume-rendering/requirements.txt (line 8)) (3.10.0)\n",
            "Requirement already satisfied: ptyprocess>=0.5 in /Users/yankesong/Library/Python/3.9/lib/python/site-packages (from pexpect>4.3->ipython>=7.17.0->ipdb->-r adaptive-volume-rendering/requirements.txt (line 13)) (0.7.0)\n",
            "Requirement already satisfied: wcwidth in /Users/yankesong/Library/Python/3.9/lib/python/site-packages (from prompt-toolkit<3.1.0,>3.0.1->ipython>=7.17.0->ipdb->-r adaptive-volume-rendering/requirements.txt (line 13)) (0.2.5)\n",
            "Requirement already satisfied: pyasn1<0.5.0,>=0.4.6 in /Library/Frameworks/Python.framework/Versions/3.9/lib/python3.9/site-packages (from pyasn1-modules>=0.2.1->google-auth<3,>=1.6.3->tensorboard->-r adaptive-volume-rendering/requirements.txt (line 8)) (0.4.8)\n",
            "Requirement already satisfied: charset-normalizer<3,>=2 in /Library/Frameworks/Python.framework/Versions/3.9/lib/python3.9/site-packages (from requests->torchvision->-r adaptive-volume-rendering/requirements.txt (line 2)) (2.1.1)\n",
            "Requirement already satisfied: urllib3<1.27,>=1.21.1 in /Library/Frameworks/Python.framework/Versions/3.9/lib/python3.9/site-packages (from requests->torchvision->-r adaptive-volume-rendering/requirements.txt (line 2)) (1.26.12)\n",
            "Requirement already satisfied: certifi>=2017.4.17 in /Library/Frameworks/Python.framework/Versions/3.9/lib/python3.9/site-packages (from requests->torchvision->-r adaptive-volume-rendering/requirements.txt (line 2)) (2022.9.24)\n",
            "Requirement already satisfied: idna<4,>=2.5 in /Library/Frameworks/Python.framework/Versions/3.9/lib/python3.9/site-packages (from requests->torchvision->-r adaptive-volume-rendering/requirements.txt (line 2)) (3.4)\n",
            "Requirement already satisfied: oauthlib>=3.0.0 in /Library/Frameworks/Python.framework/Versions/3.9/lib/python3.9/site-packages (from requests-oauthlib>=0.7.0->google-auth-oauthlib<0.5,>=0.4.1->tensorboard->-r adaptive-volume-rendering/requirements.txt (line 8)) (3.2.2)\n",
            "Requirement already satisfied: MarkupSafe>=2.1.1 in /Library/Frameworks/Python.framework/Versions/3.9/lib/python3.9/site-packages (from werkzeug>=1.0.1->tensorboard->-r adaptive-volume-rendering/requirements.txt (line 8)) (2.1.1)\n",
            "Requirement already satisfied: soupsieve>1.2 in /Library/Frameworks/Python.framework/Versions/3.9/lib/python3.9/site-packages (from beautifulsoup4->gdown->-r adaptive-volume-rendering/requirements.txt (line 18)) (2.3.2.post1)\n",
            "Requirement already satisfied: PySocks!=1.5.7,>=1.5.6 in /Library/Frameworks/Python.framework/Versions/3.9/lib/python3.9/site-packages (from requests->torchvision->-r adaptive-volume-rendering/requirements.txt (line 2)) (1.7.1)\n",
            "Requirement already satisfied: pure-eval in /Users/yankesong/Library/Python/3.9/lib/python/site-packages (from stack-data->ipython>=7.17.0->ipdb->-r adaptive-volume-rendering/requirements.txt (line 13)) (0.2.2)\n",
            "Requirement already satisfied: asttokens in /Users/yankesong/Library/Python/3.9/lib/python/site-packages (from stack-data->ipython>=7.17.0->ipdb->-r adaptive-volume-rendering/requirements.txt (line 13)) (2.0.8)\n",
            "Requirement already satisfied: executing in /Users/yankesong/Library/Python/3.9/lib/python/site-packages (from stack-data->ipython>=7.17.0->ipdb->-r adaptive-volume-rendering/requirements.txt (line 13)) (1.1.1)\n",
            "\u001b[33mWARNING: You are using pip version 21.2.3; however, version 22.3.1 is available.\n",
            "You should consider upgrading via the '/usr/local/bin/python3 -m pip install --upgrade pip' command.\u001b[0m\n",
            "Note: you may need to restart the kernel to use updated packages.\n",
            "Installed Torch version: 1.13.0\n",
            "cpu\n"
          ]
        }
      ],
      "source": [
        "root_dir = \"/Users/yankesong/Documents/YankeSong/Harvard Textbook/MIT 6.S980/Project/\"       # This is the only thing you need to change.\n",
        "%cd \"/Users/yankesong/Documents/YankeSong/Harvard Textbook/MIT 6.S980/Project/\"\n",
        "\n",
        "# Install everything\n",
        "%pip install -r adaptive-volume-rendering/requirements.txt\n",
        "\n",
        "# Import everything\n",
        "import sys\n",
        "sys.path.insert(0, f\"{root_dir}/pixel-nerf/src/\")\n",
        "sys.path.insert(0, f\"{root_dir}/adaptive-volume-rendering/\")\n",
        "\n",
        "from dataset import *\n",
        "from models import *\n",
        "from renderers import *\n",
        "from utils import *\n",
        "from model import make_model, loss\n",
        "\n",
        "print(f\"Installed Torch version: {torch.__version__}\")\n",
        "\n",
        "if torch.cuda.is_available():\n",
        "    device = torch.device(\"cuda:0\")\n",
        "    torch.cuda.set_device(device)\n",
        "else:\n",
        "    device = torch.device(\"cpu\")\n",
        "\n",
        "print(device)"
      ]
    },
    {
      "cell_type": "markdown",
      "metadata": {
        "id": "F9h59cKEDM6O"
      },
      "source": [
        "## Setup & Load Test Data"
      ]
    },
    {
      "cell_type": "code",
      "execution_count": 3,
      "metadata": {
        "colab": {
          "base_uri": "https://localhost:8080/",
          "height": 645
        },
        "id": "wcct4u0iHywz",
        "outputId": "124f87f7-c70a-4612-9d70-87a1af0cb7cd"
      },
      "outputs": [
        {
          "name": "stdout",
          "output_type": "stream",
          "text": [
            "mkdir: data: File exists\n",
            "mkdir: checkpoints: File exists\n"
          ]
        },
        {
          "name": "stderr",
          "output_type": "stream",
          "text": [
            "/Library/Frameworks/Python.framework/Versions/3.9/lib/python3.9/site-packages/torch/functional.py:504: UserWarning: torch.meshgrid: in an upcoming release, it will be required to pass the indexing argument. (Triggered internally at /Users/runner/work/pytorch/pytorch/pytorch/aten/src/ATen/native/TensorShape.cpp:3191.)\n",
            "  return _VF.meshgrid(tensors, **kwargs)  # type: ignore[attr-defined]\n"
          ]
        },
        {
          "data": {
            "image/png": "[encoded data removed]",
            "text/plain": [
              "<Figure size 640x480 with 1 Axes>"
            ]
          },
          "metadata": {},
          "output_type": "display_data"
        },
        {
          "name": "stdout",
          "output_type": "stream",
          "text": [
            "Cam2world  tensor([[ 8.7589e-01, -4.3254e-01,  2.1383e-01, -2.7798e-01],\n",
            "        [-4.8251e-01, -7.8519e-01,  3.8816e-01, -5.0461e-01],\n",
            "        [ 4.4703e-08, -4.4316e-01, -8.9644e-01,  1.1654e+00],\n",
            "        [-0.0000e+00,  0.0000e+00, -0.0000e+00,  1.0000e+00]])\n",
            "Intrinsics  tensor([[1.0254, 0.0000, 0.5000],\n",
            "        [0.0000, 1.0254, 0.5000],\n",
            "        [0.0000, 0.0000, 1.0000]])\n",
            "Pixel coords shape torch.Size([4096, 2]) tensor(0.7480)\n",
            "Scene idx tensor([2290])\n"
          ]
        }
      ],
      "source": [
        "# Download data and weights\n",
        "\n",
        "# Make a new directory\n",
        "!mkdir data\n",
        "!mkdir checkpoints\n",
        "\n",
        "# Download Test Dataset\n",
        "if not os.path.exists(f\"{root_dir}data/cars_train.hdf5\"):\n",
        "    # Download SRNs-cars dataset\n",
        "    gdown.download(\"https://drive.google.com/uc?id={}\".format(\"1SBjlsizq0sFNkCZxMQh-pNRi0HyFozKb\"),f\"{root_dir}data/cars_train.hdf5\")\n",
        "\n",
        "# View test image\n",
        "sl = 64\n",
        "dataset = SRNsCars(root_dir,img_sidelength=sl)\n",
        "mi, rgb = next(iter(dataset))\n",
        "\n",
        "rgb = rgb.reshape(sl, sl, 3).view()\n",
        "\n",
        "plt.imshow(rgb)\n",
        "plt.show()\n",
        "\n",
        "print(\"Cam2world \", mi['cam2world'])\n",
        "print(\"Intrinsics \", mi['intrinsics'])\n",
        "print(\"Pixel coords shape\", mi['x_pix'].shape, mi['x_pix'].max())\n",
        "print(\"Scene idx\", mi['idx'])\n",
        "\n",
        "## Download pretrained weights from PixelNeRF\n",
        "if not os.path.exists(f\"{root_dir}checkpoints/pixel_nerf_weights.zip\"):\n",
        "  gdown.download(\"https://drive.google.com/uc?id={}\".format(\"1UO_rL201guN6euoWkCOn-XpqR2e8o6ju\"),f\"{root_dir}checkpoints/pixel_nerf_weights.zip\")\n",
        "  !unzip checkpoints/pixel_nerf_weights.zip -d checkpoints/"
      ]
    },
    {
      "cell_type": "markdown",
      "metadata": {
        "id": "ybadPLmoE4a4"
      },
      "source": [
        "## Renderer"
      ]
    },
    {
      "cell_type": "markdown",
      "metadata": {
        "id": "pft_potR-0Ut"
      },
      "source": [
        "Loading PixlNeRF models\n",
        "\n",
        "- The volume renderer is in src/nerf.py\n",
        "- Can easily wrap a net with a renderer using _RenderWrapper function\n",
        "- The current volume renderer samples points in the following way:\n",
        "  - Sample 64 coarse points (uniform sample)\n",
        "  - Sample 16 fine points (importance sample, still need to check how)\n",
        "  - Compute an expected depth, then sample 16 random normal points with sd=0.01 around that depth."
      ]
    },
    {
      "cell_type": "code",
      "execution_count": 5,
      "metadata": {
        "colab": {
          "base_uri": "https://localhost:8080/",
          "height": 353
        },
        "id": "ExobcYT0XFpg",
        "outputId": "d814ab7f-b8ca-4cad-93e7-54b794fb9466"
      },
      "outputs": [
        {
          "name": "stdout",
          "output_type": "stream",
          "text": [
            "Using torchvision resnet34 encoder\n"
          ]
        },
        {
          "name": "stderr",
          "output_type": "stream",
          "text": [
            "/Library/Frameworks/Python.framework/Versions/3.9/lib/python3.9/site-packages/torchvision/models/_utils.py:208: UserWarning: The parameter 'pretrained' is deprecated since 0.13 and may be removed in the future, please use 'weights' instead.\n",
            "  warnings.warn(\n",
            "/Library/Frameworks/Python.framework/Versions/3.9/lib/python3.9/site-packages/torchvision/models/_utils.py:223: UserWarning: Arguments other than a weight enum or `None` for 'weights' are deprecated since 0.13 and may be removed in the future. The current behavior is equivalent to passing `weights=ResNet34_Weights.IMAGENET1K_V1`. You can also use `weights=ResNet34_Weights.DEFAULT` to get the most up-to-date weights.\n",
            "  warnings.warn(msg)\n"
          ]
        }
      ],
      "source": [
        "# Create a custom conf\n",
        "from pyhocon import ConfigFactory\n",
        "conf = ConfigFactory.parse_file(f\"adaptive-volume-rendering/conf/default_mv.conf\")\n",
        "\n",
        "# Create a pixelnerf net\n",
        "net = make_model(conf[\"model\"]).to(device=device)\n",
        "net.stop_encoder_grad = True\n",
        "\n",
        "# Combine with volumerenderer\n",
        "renderer = VolumeRenderer.from_conf(conf[\"normal_renderer\"]).to(\n",
        "    device=device\n",
        ")\n",
        "\n"
      ]
    },
    {
      "cell_type": "code",
      "execution_count": 7,
      "metadata": {},
      "outputs": [],
      "source": [
        "######## TODO\n",
        "# Create a renderer\n"
      ]
    },
    {
      "cell_type": "code",
      "execution_count": null,
      "metadata": {},
      "outputs": [],
      "source": []
    }
  ],
  "metadata": {
    "colab": {
      "provenance": []
    },
    "gpuClass": "standard",
    "kernelspec": {
      "display_name": "Python 3.9.7 64-bit",
      "language": "python",
      "name": "python3"
    },
    "language_info": {
      "codemirror_mode": {
        "name": "ipython",
        "version": 3
      },
      "file_extension": ".py",
      "mimetype": "text/x-python",
      "name": "python",
      "nbconvert_exporter": "python",
      "pygments_lexer": "ipython3",
      "version": "3.9.7"
    },
    "vscode": {
      "interpreter": {
        "hash": "aee8b7b246df8f9039afb4144a1f6fd8d2ca17a180786b69acc140d282b71a49"
      }
    }
  },
  "nbformat": 4,
  "nbformat_minor": 0
}
