{
  "cells": [
    {
      "cell_type": "markdown",
      "metadata": {
        "id": "P3_IvSlv8esf"
      },
      "source": [
        "## Directory Structure\n",
        "PLEASE make sure your directory looks like this:\n",
        "- root_dir\n",
        "    - pixel-nerf (clone/pull from github)\n",
        "    - adaptive-volume-rendering (clone/pull from github)\n",
        "        - 6S980_Project.ipynb\n",
        "    - scene-representation-networks (clone/pull from github)\n",
        "    - data\n",
        "    - checkpoints\n",
        "    - ......\n",
        "    \n",
        "Then set your pwd to root_dir\n",
        "\n",
        "## Relevant Repos\n",
        "\n",
        "- PixelNeRF repo: https://github.com/sxyu/pixel-nerf\n",
        "\n",
        "- SRN repo: https://github.com/vsitzmann/scene-representation-networks\n",
        "\n",
        "- SRN raymarcher algorithm: https://github.com/vsitzmann/scene-representation-networks/blob/master/custom_layers.py\n",
        "\n",
        "## Data\n",
        "\n",
        "- Currently using cars dataset from SRN\n",
        "\n",
        "## What we did\n",
        "\n",
        "- Now the pixelnerf with pretrained weights are running!\n",
        "\n",
        "\n",
        "## Questions\n",
        "- PixelNeRF currently does: evenly coarse sampling - fine sampling via importance weights - fine sampling around expected depth. With adaptive procedure, what is a fair comparison?\n",
        "\n",
        "## TODOs\n",
        "- First attempt: let LSTM interact with the features, do 10 steps, then directly output a color\n",
        "- Second attempt: sample points around the final location and do volume integral\n",
        "- Check dataloader stop iteration issue (need to re-use the data)"
      ]
    },
    {
      "cell_type": "code",
      "execution_count": 1,
      "metadata": {},
      "outputs": [
        {
          "name": "stdout",
          "output_type": "stream",
          "text": [
            "/Users/yankesong/Documents/YankeSong/Harvard Textbook/MIT 6.S980/Project\n"
          ]
        },
        {
          "name": "stderr",
          "output_type": "stream",
          "text": [
            "/Library/Frameworks/Python.framework/Versions/3.9/lib/python3.9/site-packages/tqdm/auto.py:22: TqdmWarning: IProgress not found. Please update jupyter and ipywidgets. See https://ipywidgets.readthedocs.io/en/stable/user_install.html\n",
            "  from .autonotebook import tqdm as notebook_tqdm\n"
          ]
        },
        {
          "name": "stdout",
          "output_type": "stream",
          "text": [
            "Installed Torch version: 1.13.0\n",
            "cpu\n"
          ]
        }
      ],
      "source": [
        "root_dir = \"/Users/yankesong/Documents/YankeSong/Harvard Textbook/MIT 6.S980/Project/\"       # This is the only thing you need to change.\n",
        "%cd \"/Users/yankesong/Documents/YankeSong/Harvard Textbook/MIT 6.S980/Project/\"\n",
        "\n",
        "# root_dir = \"/Users/jameszli/desktop/MIT/6.S980/\"       # This is the only thing you need to change.\n",
        "# %cd \"/Users/jameszli/desktop/MIT/6.S980/\"\n",
        "\n",
        "# # Install everything\n",
        "# %pip install -r adaptive-volume-rendering/requirements.txt\n",
        "\n",
        "# Import everything\n",
        "import sys\n",
        "\n",
        "sys.path.insert(0, f\"{root_dir}/scene-representation-networks/\")\n",
        "sys.path.insert(0, f\"{root_dir}/pixel-nerf/src/\")\n",
        "sys.path.insert(0, f\"{root_dir}/adaptive-volume-rendering/\")\n",
        "\n",
        "from dataset import *\n",
        "from models import *\n",
        "from renderers import *\n",
        "from trains import *\n",
        "from utils import *\n",
        "from model import make_model, loss\n",
        "\n",
        "print(f\"Installed Torch version: {torch.__version__}\")\n",
        "\n",
        "if torch.cuda.is_available():\n",
        "    device = torch.device(\"cuda:0\")\n",
        "    torch.cuda.set_device(device)\n",
        "else:\n",
        "    device = torch.device(\"cpu\")\n",
        "\n",
        "print(device)"
      ]
    },
    {
      "cell_type": "markdown",
      "metadata": {
        "id": "F9h59cKEDM6O"
      },
      "source": [
        "## Setup & Load Test Data"
      ]
    },
    {
      "cell_type": "code",
      "execution_count": 2,
      "metadata": {
        "colab": {
          "base_uri": "https://localhost:8080/",
          "height": 645
        },
        "id": "wcct4u0iHywz",
        "outputId": "124f87f7-c70a-4612-9d70-87a1af0cb7cd"
      },
      "outputs": [
        {
          "name": "stdout",
          "output_type": "stream",
          "text": [
            "mkdir: data: File exists\n",
            "mkdir: checkpoints: File exists\n"
          ]
        }
      ],
      "source": [
        "# Download data and weights\n",
        "\n",
        "# Make a new directory\n",
        "!mkdir data\n",
        "!mkdir checkpoints\n",
        "\n",
        "# Download Test Dataset\n",
        "if not os.path.exists(f\"{root_dir}data/cars_train.hdf5\"):\n",
        "    # Download SRNs-cars dataset\n",
        "    gdown.download(\"https://drive.google.com/uc?id={}\".format(\"1SBjlsizq0sFNkCZxMQh-pNRi0HyFozKb\"),f\"{root_dir}data/cars_train.hdf5\")\n",
        "\n",
        "\n",
        "## Download pretrained weights from PixelNeRF\n",
        "if not os.path.exists(f\"{root_dir}checkpoints/pixel_nerf_weights.zip\"):\n",
        "  gdown.download(\"https://drive.google.com/uc?id={}\".format(\"1UO_rL201guN6euoWkCOn-XpqR2e8o6ju\"),f\"{root_dir}checkpoints/pixel_nerf_weights.zip\")\n",
        "  !unzip checkpoints/pixel_nerf_weights.zip -d checkpoints/"
      ]
    },
    {
      "cell_type": "code",
      "execution_count": 3,
      "metadata": {},
      "outputs": [],
      "source": [
        "# # View test image\n",
        "# sl = 128\n",
        "# dataset = SRNsCars(root_dir,img_sidelength=sl)\n",
        "# mi = next(iter(dataset))\n",
        "\n",
        "# rgb = mi['images'].reshape(sl, sl, 3)\n",
        "\n",
        "# plt.imshow(rgb)\n",
        "# plt.show()\n",
        "\n",
        "# print(\"Cam2world \", mi['cam2world'])\n",
        "# print(\"Intrinsics \", mi['intrinsics'])\n",
        "# print(\"Pixel coords\", mi['x_pix'], mi['x_pix'].max())\n",
        "# print(\"Scene idx\", mi['idx'])\n",
        "\n",
        "\n",
        "# # Below are for pixelnerf convention\n",
        "# key = \"4e384de22a760ef72e877e82c90c24d\"\n",
        "\n",
        "\n",
        "# for i in range(250):\n",
        "#     observation_idx = list(str(100000 + i))\n",
        "#     observation_idx[0] = '0'\n",
        "#     observation_idx = \"\".join(observation_idx)\n",
        "#     pose_path = f\"{root_dir}data/cars_train/{key}/pose/{observation_idx}.txt\"\n",
        "#     pose = torch.from_numpy(\n",
        "#                 np.loadtxt(pose_path, dtype=np.float32).reshape(4, 4)\n",
        "#             )\n",
        "#     #print(abs(pose[0,0] - mi['cam2world'][0,0]))\n",
        "#     if abs(pose[0,0] - mi['cam2world'][0,0]) < 2e-2:\n",
        "#         print(f'found it! observation number {observation_idx}')\n",
        "#         print(pose)\n",
        "\n",
        "#         rgb_path = f\"{root_dir}data/cars_train/{key}/rgb/{observation_idx}.png\"\n",
        "#         img = imageio.imread(rgb_path)[..., :3]\n",
        "#         to_tensor = transforms.ToTensor()\n",
        "#         img_tensor = to_tensor(img)\n",
        "#         plt.imshow(img)\n"
      ]
    },
    {
      "cell_type": "code",
      "execution_count": 4,
      "metadata": {},
      "outputs": [],
      "source": [
        "# Checking axis alignment\n",
        "# sl = 4\n",
        "# print(get_opencv_pixel_coordinates(sl,sl))\n",
        "# Y, X = torch.meshgrid(\n",
        "#         torch.arange(sl, dtype=torch.float32),\n",
        "#         torch.arange(sl, dtype=torch.float32),\n",
        "#     )\n",
        "# print(torch.stack((X, Y)))"
      ]
    },
    {
      "cell_type": "markdown",
      "metadata": {
        "id": "ybadPLmoE4a4"
      },
      "source": [
        "## Renderer"
      ]
    },
    {
      "cell_type": "markdown",
      "metadata": {
        "id": "pft_potR-0Ut"
      },
      "source": [
        "Loading PixlNeRF models\n",
        "\n",
        "- The volume renderer is in src/nerf.py\n",
        "- Can easily wrap a net with a renderer using _RenderWrapper function\n",
        "- The current volume renderer samples points in the following way:\n",
        "  - Sample 64 coarse points (uniform sample)\n",
        "  - Sample 16 fine points (importance sample, still need to check how)\n",
        "  - Compute an expected depth, then sample 16 random normal points with sd=0.01 around that depth."
      ]
    },
    {
      "cell_type": "code",
      "execution_count": 5,
      "metadata": {
        "colab": {
          "base_uri": "https://localhost:8080/",
          "height": 353
        },
        "id": "ExobcYT0XFpg",
        "outputId": "d814ab7f-b8ca-4cad-93e7-54b794fb9466"
      },
      "outputs": [],
      "source": [
        "# ############## Original Volume renderer\n",
        "# # Create a custom conf\n",
        "# from pyhocon import ConfigFactory\n",
        "# conf = ConfigFactory.parse_file(f\"adaptive-volume-rendering/conf/default_mv.conf\")\n",
        "\n",
        "# # Create a pixelnerf net\n",
        "# net = make_new_model(conf[\"model\"]).to(device=device)\n",
        "# net.stop_encoder_grad = True\n",
        "\n",
        "# # Load pretrianed weights\n",
        "# model_path = f\"{root_dir}checkpoints/srn_car/pixel_nerf_latest\"\n",
        "# net.load_weights(model_path)\n",
        "\n",
        "# # Combine with volumerenderer\n",
        "# renderer = VolumeRenderer.from_conf(conf[\"normal_renderer\"]).to(\n",
        "#     device=device\n",
        "# )\n",
        "\n",
        "# rf_and_renderer = RadFieldAndRenderer(net, renderer).to(device=device)\n",
        "\n",
        "# # Test dataset\n",
        "# sl = 32\n",
        "# train_dataset = SceneClassDataset(root_dir=f\"{root_dir}data/cars_train\",\n",
        "#                                              max_num_instances=1,\n",
        "#                                              max_observations_per_instance=50,\n",
        "#                                              img_sidelength=sl,\n",
        "#                                              specific_observation_idcs=None,\n",
        "#                                              samples_per_instance=4)\n",
        "\n",
        "\n",
        "\n",
        "# train_dataloader = DataLoader(train_dataset,\n",
        "#                                       batch_size=1,\n",
        "#                                       shuffle=True,\n",
        "#                                       drop_last=True,\n",
        "#                                       collate_fn=train_dataset.collate_fn\n",
        "#                                       )\n",
        "\n",
        "# # Configurations\n",
        "# optim = torch.optim.Adam(lr=1e-3, params=rf_and_renderer.parameters())\n",
        "\n",
        "# try:\n",
        "#     _ = fit(net,\n",
        "#         rf_and_renderer, \n",
        "#         iter(train_dataloader), \n",
        "#         loss_fn=mse_loss, \n",
        "#         resolution=(sl, sl, 3), \n",
        "#         plotting_function=plot_output_ground_truth, \n",
        "#         optimizer=optim, \n",
        "#         total_steps=500,\n",
        "#         steps_til_summary=10\n",
        "#         )\n",
        "# except Exception:\n",
        "#     print(traceback.format_exc())\n",
        "\n"
      ]
    },
    {
      "cell_type": "markdown",
      "metadata": {},
      "source": [
        "### PixelNeRF + Raymarcher"
      ]
    },
    {
      "cell_type": "code",
      "execution_count": 6,
      "metadata": {},
      "outputs": [],
      "source": [
        "# # Create a custom conf\n",
        "# from pyhocon import ConfigFactory\n",
        "# conf = ConfigFactory.parse_file(f\"adaptive-volume-rendering/conf/default_mv.conf\")\n",
        "\n",
        "# # Create a pixelnerf net\n",
        "# net = make_new_model(conf[\"model\"]).to(device=device)\n",
        "# net.stop_encoder_grad = True\n",
        "\n",
        "# # Load pretrianed weights\n",
        "# model_path = f\"{root_dir}checkpoints/srn_car/pixel_nerf_latest\"\n",
        "# net.load_weights(model_path)\n",
        "\n",
        "# # Combine with volumerenderer\n",
        "# renderer = Raymarcher.from_conf(conf[\"raymarcher\"]).to(\n",
        "#     device=device\n",
        "# )\n",
        "\n",
        "# rf_and_renderer = RadFieldAndRenderer(net, renderer).to(device=device)\n",
        "\n",
        "# ######## TODO\n",
        "# # Test dataset\n",
        "# sl = 32\n",
        "# train_dataset = SceneClassDataset(root_dir=f\"{root_dir}data/cars_train\",\n",
        "#                                              max_num_instances=1,\n",
        "#                                              max_observations_per_instance=50,\n",
        "#                                              img_sidelength=sl,\n",
        "#                                              specific_observation_idcs=None,\n",
        "#                                              samples_per_instance=2)\n",
        "\n",
        "\n",
        "# train_dataloader = DataLoader(train_dataset,\n",
        "#                                       batch_size=1,\n",
        "#                                       shuffle=True,\n",
        "#                                       drop_last=True,\n",
        "#                                       collate_fn=train_dataset.collate_fn\n",
        "#                                       )\n",
        "\n",
        "# # Configurations\n",
        "# optim = torch.optim.Adam(lr=5e-5, params=rf_and_renderer.parameters())\n",
        "\n",
        "# try:\n",
        "#     _ = fit(net,\n",
        "#         rf_and_renderer, \n",
        "#         train_dataloader, \n",
        "#         loss_fn=mse_loss, \n",
        "#         resolution=(sl, sl, 3), \n",
        "#         plotting_function=plot_output_ground_truth, \n",
        "#         optimizer=optim, \n",
        "#         total_steps=500,\n",
        "#         steps_til_summary=10\n",
        "#         )\n",
        "# except Exception:\n",
        "#     print(traceback.format_exc())"
      ]
    },
    {
      "cell_type": "markdown",
      "metadata": {},
      "source": [
        "### PixelNeRF + Adaptive Volume Renderer"
      ]
    },
    {
      "cell_type": "code",
      "execution_count": 7,
      "metadata": {},
      "outputs": [
        {
          "name": "stdout",
          "output_type": "stream",
          "text": [
            "Using torchvision resnet34 encoder\n"
          ]
        },
        {
          "name": "stderr",
          "output_type": "stream",
          "text": [
            "/Library/Frameworks/Python.framework/Versions/3.9/lib/python3.9/site-packages/torchvision/models/_utils.py:208: UserWarning: The parameter 'pretrained' is deprecated since 0.13 and may be removed in the future, please use 'weights' instead.\n",
            "  warnings.warn(\n",
            "/Library/Frameworks/Python.framework/Versions/3.9/lib/python3.9/site-packages/torchvision/models/_utils.py:223: UserWarning: Arguments other than a weight enum or `None` for 'weights' are deprecated since 0.13 and may be removed in the future. The current behavior is equivalent to passing `weights=ResNet34_Weights.IMAGENET1K_V1`. You can also use `weights=ResNet34_Weights.DEFAULT` to get the most up-to-date weights.\n",
            "  warnings.warn(msg)\n"
          ]
        },
        {
          "name": "stdout",
          "output_type": "stream",
          "text": [
            "Load /Users/yankesong/Documents/YankeSong/Harvard Textbook/MIT 6.S980/Project/checkpoints/srn_car/pixel_nerf_latest\n"
          ]
        },
        {
          "name": "stderr",
          "output_type": "stream",
          "text": [
            "/Library/Frameworks/Python.framework/Versions/3.9/lib/python3.9/site-packages/torch/functional.py:504: UserWarning: torch.meshgrid: in an upcoming release, it will be required to pass the indexing argument. (Triggered internally at /Users/runner/work/pytorch/pytorch/pytorch/aten/src/ATen/native/TensorShape.cpp:3191.)\n",
            "  return _VF.meshgrid(tensors, **kwargs)  # type: ignore[attr-defined]\n"
          ]
        },
        {
          "name": "stdout",
          "output_type": "stream",
          "text": [
            "Step 0: loss = 0.10708\n"
          ]
        },
        {
          "data": {
            "image/png": "[encoded data removed]",
            "text/plain": [
              "<Figure size 1800x600 with 3 Axes>"
            ]
          },
          "metadata": {},
          "output_type": "display_data"
        },
        {
          "name": "stderr",
          "output_type": "stream",
          "text": [
            "Clipping input data to the valid range for imshow with RGB data ([0..1] for floats or [0..255] for integers).\n"
          ]
        },
        {
          "name": "stdout",
          "output_type": "stream",
          "text": [
            "Step 10: loss = 4268.56494\n",
            "same view dir as src\n"
          ]
        },
        {
          "data": {
            "image/png": "[encoded data removed]",
            "text/plain": [
              "<Figure size 1800x600 with 3 Axes>"
            ]
          },
          "metadata": {},
          "output_type": "display_data"
        },
        {
          "name": "stdout",
          "output_type": "stream",
          "text": [
            "Step 20: loss = 0.18091\n"
          ]
        },
        {
          "data": {
            "image/png": "[encoded data removed]",
            "text/plain": [
              "<Figure size 1800x600 with 3 Axes>"
            ]
          },
          "metadata": {},
          "output_type": "display_data"
        },
        {
          "name": "stderr",
          "output_type": "stream",
          "text": [
            "Clipping input data to the valid range for imshow with RGB data ([0..1] for floats or [0..255] for integers).\n"
          ]
        },
        {
          "name": "stdout",
          "output_type": "stream",
          "text": [
            "Step 30: loss = 0.69585\n",
            "same view dir as src\n"
          ]
        },
        {
          "data": {
            "image/png": "[encoded data removed]",
            "text/plain": [
              "<Figure size 1800x600 with 3 Axes>"
            ]
          },
          "metadata": {},
          "output_type": "display_data"
        },
        {
          "name": "stdout",
          "output_type": "stream",
          "text": [
            "Step 40: loss = 0.19889\n"
          ]
        },
        {
          "data": {
            "image/png": "[encoded data removed]",
            "text/plain": [
              "<Figure size 1800x600 with 3 Axes>"
            ]
          },
          "metadata": {},
          "output_type": "display_data"
        }
      ],
      "source": [
        "# Create a custom conf\n",
        "from pyhocon import ConfigFactory\n",
        "conf = ConfigFactory.parse_file(f\"adaptive-volume-rendering/conf/default_mv.conf\")\n",
        "\n",
        "# Create a pixelnerf net\n",
        "net = make_new_model(conf[\"model\"]).to(device=device)\n",
        "net.stop_encoder_grad = True\n",
        "\n",
        "# Load pretrianed weights\n",
        "model_path = f\"{root_dir}checkpoints/srn_car/pixel_nerf_latest\"\n",
        "net.load_weights(model_path)\n",
        "\n",
        "# Combine with volumerenderer\n",
        "renderer = AdaptiveVolumeRenderer.from_conf(conf[\"adaptive_renderer\"]).to(\n",
        "    device=device\n",
        ")\n",
        "\n",
        "rf_and_renderer = RadFieldAndRenderer(net, renderer).to(device=device)\n",
        "\n",
        "######## TODO\n",
        "# Test dataset\n",
        "sl = 32\n",
        "train_dataset = SceneClassDataset(root_dir=f\"{root_dir}data/cars_train\",\n",
        "                                             max_num_instances=1,\n",
        "                                             max_observations_per_instance=50,\n",
        "                                             img_sidelength=sl,\n",
        "                                             specific_observation_idcs=None,\n",
        "                                             samples_per_instance=2)\n",
        "\n",
        "\n",
        "train_dataloader = DataLoader(train_dataset,\n",
        "                                      batch_size=1,\n",
        "                                      shuffle=True,\n",
        "                                      drop_last=True,\n",
        "                                      collate_fn=train_dataset.collate_fn\n",
        "                                      )\n",
        "\n",
        "# Configurations\n",
        "optim = torch.optim.Adam(lr=5e-5, params=rf_and_renderer.parameters())\n",
        "\n",
        "try:\n",
        "    _ = fit(net,\n",
        "        rf_and_renderer, \n",
        "        train_dataloader, \n",
        "        loss_fn=mse_loss, \n",
        "        resolution=(sl, sl, 3), \n",
        "        plotting_function=plot_output_ground_truth, \n",
        "        optimizer=optim, \n",
        "        total_steps=500,\n",
        "        steps_til_summary=10\n",
        "        )\n",
        "except Exception:\n",
        "    print(traceback.format_exc())\n"
      ]
    },
    {
      "cell_type": "code",
      "execution_count": null,
      "metadata": {},
      "outputs": [],
      "source": []
    }
  ],
  "metadata": {
    "colab": {
      "provenance": []
    },
    "gpuClass": "standard",
    "kernelspec": {
      "display_name": "Python 3.9.7 64-bit",
      "language": "python",
      "name": "python3"
    },
    "language_info": {
      "codemirror_mode": {
        "name": "ipython",
        "version": 3
      },
      "file_extension": ".py",
      "mimetype": "text/x-python",
      "name": "python",
      "nbconvert_exporter": "python",
      "pygments_lexer": "ipython3",
      "version": "3.9.7"
    },
    "vscode": {
      "interpreter": {
        "hash": "aee8b7b246df8f9039afb4144a1f6fd8d2ca17a180786b69acc140d282b71a49"
      }
    }
  },
  "nbformat": 4,
  "nbformat_minor": 0
}
